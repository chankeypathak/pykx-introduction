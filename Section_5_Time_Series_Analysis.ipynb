{
 "cells": [
  {
   "cell_type": "code",
   "execution_count": 1,
   "id": "d2c562e5-08fe-4a95-97a3-0a5ce71d9ea1",
   "metadata": {},
   "outputs": [],
   "source": [
    "# Setup\n",
    "import numpy as np\n",
    "import pandas as pd\n",
    "import pyarrow as pa\n",
    "import datetime\n",
    "\n",
    "import pykx as kx\n",
    "kx.q.system.console_size = [15, 100]"
   ]
  },
  {
   "cell_type": "code",
   "execution_count": 2,
   "id": "c185456b-2102-4537-8b94-15b13cf4a4af",
   "metadata": {},
   "outputs": [],
   "source": [
    "tab_BTC = kx.q.read.csv('data/BTCUSDT.csv')\n",
    "# Create a new column in tab_BTC listing the date for each row\n",
    "tab_BTC['date'] = tab_BTC['timestamp'].date"
   ]
  },
  {
   "cell_type": "markdown",
   "id": "0422886a-1a08-47d7-8c86-62961c589c13",
   "metadata": {
    "tags": []
   },
   "source": [
    "# Section 5: Time Series Analysis with PyKX"
   ]
  },
  {
   "cell_type": "markdown",
   "id": "9778dffa-6009-40e9-89f1-c444872e4a49",
   "metadata": {
    "tags": []
   },
   "source": [
    "## Working with dates and times"
   ]
  },
  {
   "cell_type": "raw",
   "id": "00861c66-b080-4682-9263-39bb4e482882",
   "metadata": {},
   "source": [
    "Reference:\n",
    "\n",
    "n   c   name      sz  literal            null inf SQL       Java      .Net\n",
    "------------------------------------------------------------------------------------\n",
    "12  p   timestamp 8   dateDtimespan      0Np  0Wp           Timestamp DateTime (RW)\n",
    "13  m   month     4   2000.01m           0Nm\n",
    "14  d   date      4   2000.01.01         0Nd  0Wd date      Date\n",
    "15  z   datetime  8   dateTtime          0Nz  0wz timestamp Timestamp DateTime (RO)\n",
    "16  n   timespan  8   00:00:00.000000000 0Nn  0Wn           Timespan  TimeSpan\n",
    "17  u   minute    4   00:00              0Nu  0Wu\n",
    "18  v   second    4   00:00:00           0Nv  0Wv\n",
    "19  t   time      4   00:00:00.000       0Nt  0Wt time      Time      TimeSpan"
   ]
  },
  {
   "cell_type": "markdown",
   "id": "0972be78-af0f-47a7-b5a9-2fe4c573a3c4",
   "metadata": {},
   "source": [
    "#### Get current date / time"
   ]
  },
  {
   "cell_type": "code",
   "execution_count": 3,
   "id": "4df657aa-1535-4ca9-a41d-58a48890851b",
   "metadata": {},
   "outputs": [
    {
     "name": "stdout",
     "output_type": "stream",
     "text": [
      "2024.08.21 11:36:30.151 2024.08.21D11:36:30.151942270\n"
     ]
    }
   ],
   "source": [
    "print(\n",
    "      kx.DateAtom('today'),\n",
    "      kx.TimeAtom('now'),\n",
    "      kx.TimestampAtom('now')\n",
    "      )"
   ]
  },
  {
   "cell_type": "markdown",
   "id": "381bf56f-d068-416b-a907-02cee9596ccc",
   "metadata": {},
   "source": [
    "#### Generating date / time objects"
   ]
  },
  {
   "cell_type": "code",
   "execution_count": 4,
   "id": "2ce4179b-19bb-455b-ac44-b0375d66c283",
   "metadata": {},
   "outputs": [
    {
     "data": {
      "text/plain": [
       "pykx.DateAtom(pykx.q('2020.01.01'))"
      ]
     },
     "execution_count": 4,
     "metadata": {},
     "output_type": "execute_result"
    }
   ],
   "source": [
    "# Generate a date object\n",
    "kx.q('2020.01.01d')"
   ]
  },
  {
   "cell_type": "code",
   "execution_count": 5,
   "id": "b787b2f0-cf7f-43ed-be5f-d7d5cc2a0301",
   "metadata": {},
   "outputs": [
    {
     "data": {
      "text/plain": [
       "pykx.DateAtom(pykx.q('2020.01.01'))"
      ]
     },
     "execution_count": 5,
     "metadata": {},
     "output_type": "execute_result"
    }
   ],
   "source": [
    "# Another way to generate a date object\n",
    "kx.DateAtom(datetime.date(2020, 1, 1))"
   ]
  },
  {
   "cell_type": "code",
   "execution_count": 6,
   "id": "a8ad3ea3-2056-4dc3-b3d9-70564df8cbd2",
   "metadata": {},
   "outputs": [
    {
     "data": {
      "text/plain": [
       "pykx.TimestampVector(pykx.q('2009.09.04D13:38:51.608276288 2012.09.27D13:16:27.306237376 2012.09.17D13:12:38.052154560'))"
      ]
     },
     "execution_count": 6,
     "metadata": {},
     "output_type": "execute_result"
    }
   ],
   "source": [
    "# Generate random timestamps\n",
    "timestamps = kx.random.random(3, kx.TimestampAtom('now'))\n",
    "timestamps"
   ]
  },
  {
   "cell_type": "code",
   "execution_count": 7,
   "id": "87729d4b-355d-4593-a695-94970e828ccc",
   "metadata": {},
   "outputs": [
    {
     "data": {
      "text/plain": [
       "pykx.IntVector(pykx.q('9 9 9i'))"
      ]
     },
     "execution_count": 7,
     "metadata": {},
     "output_type": "execute_result"
    }
   ],
   "source": [
    "# Extract the month from the timestamp\n",
    "timestamps.month"
   ]
  },
  {
   "cell_type": "markdown",
   "id": "6c1704d2-f288-4b47-95d7-a02b06a41566",
   "metadata": {},
   "source": [
    "#### Accessing Date / Time Attributes"
   ]
  },
  {
   "cell_type": "code",
   "execution_count": 8,
   "id": "8f03fea3-44ed-4b9d-9ca5-c32ab5bcac24",
   "metadata": {},
   "outputs": [
    {
     "data": {
      "text/plain": [
       "pykx.DateVector(pykx.q('2009.09.04 2012.09.27 2012.09.17'))"
      ]
     },
     "execution_count": 8,
     "metadata": {},
     "output_type": "execute_result"
    }
   ],
   "source": [
    "# Extract the date from the timestamps\n",
    "timestamps.date"
   ]
  },
  {
   "cell_type": "code",
   "execution_count": 9,
   "id": "2264e60e-30d6-4991-9a6e-7e4392df3938",
   "metadata": {},
   "outputs": [
    {
     "data": {
      "text/plain": [
       "pykx.TimeVector(pykx.q('13:38:51.608 13:16:27.306 13:12:38.052'))"
      ]
     },
     "execution_count": 9,
     "metadata": {},
     "output_type": "execute_result"
    }
   ],
   "source": [
    "# Extract the time from the timestamps\n",
    "timestamps.time"
   ]
  },
  {
   "cell_type": "code",
   "execution_count": 10,
   "id": "08b3d713-3cc3-42b7-a18d-ec89b42d2fd7",
   "metadata": {},
   "outputs": [
    {
     "data": {
      "text/plain": [
       "pykx.IntVector(pykx.q('51 27 38i'))"
      ]
     },
     "execution_count": 10,
     "metadata": {},
     "output_type": "execute_result"
    }
   ],
   "source": [
    "# Extract the seconds from the timestamps\n",
    "timestamps.second"
   ]
  },
  {
   "cell_type": "code",
   "execution_count": 11,
   "id": "905aa951-a2fa-472e-88d2-09e093cc8010",
   "metadata": {},
   "outputs": [
    {
     "data": {
      "text/plain": [
       "pykx.DateVector(pykx.q('2017.08.17 2017.08.17 2017.08.17 2017.08.17 2017.08.17 2017.08.17 2017.08.17 2017.08.17 2017.08.1..'))"
      ]
     },
     "execution_count": 11,
     "metadata": {},
     "output_type": "execute_result"
    }
   ],
   "source": [
    "# Convert timestamps in a table to dates\n",
    "tab_BTC['timestamp'].date"
   ]
  },
  {
   "cell_type": "markdown",
   "id": "397d095a-d1ba-4875-a031-a470bf8fcadd",
   "metadata": {},
   "source": [
    "#### Plotting Time Series Data"
   ]
  },
  {
   "cell_type": "code",
   "execution_count": 12,
   "id": "6d9a8f82-3b5b-4024-bea3-44a398c12148",
   "metadata": {},
   "outputs": [],
   "source": [
    "import matplotlib.pyplot as plt"
   ]
  },
  {
   "cell_type": "code",
   "execution_count": 13,
   "id": "be9b9ea5-db59-4763-9c81-50706429d11e",
   "metadata": {},
   "outputs": [
    {
     "name": "stderr",
     "output_type": "stream",
     "text": [
      "/opt/conda/lib/python3.10/site-packages/pykx/wrappers.py:1918: UserWarning: Warning: Attempting to call numpy __array_function__ on a PyKX Vector type. __array_function__: <function atleast_1d at 0x79a8680d1990>. Support for this method is on a best effort basis.\n",
      "  warnings.warn('Warning: Attempting to call numpy __array_function__ on a '\n"
     ]
    },
    {
     "data": {
      "image/png": "[encoded data removed]",
      "text/plain": [
       "<Figure size 640x480 with 1 Axes>"
      ]
     },
     "metadata": {},
     "output_type": "display_data"
    }
   ],
   "source": [
    "plt.plot(tab_BTC['date'],tab_BTC['close'])\n",
    "plt.title('Price Over Time')\n",
    "plt.xlabel('Date')\n",
    "plt.ylabel('Price')\n",
    "plt.show()"
   ]
  },
  {
   "cell_type": "markdown",
   "id": "e6287ebf-2cdf-4069-ac72-f7d036ff5800",
   "metadata": {},
   "source": [
    "#### Common Time Series Operations"
   ]
  },
  {
   "cell_type": "markdown",
   "id": "d57034ac-69d2-4af5-b500-94c5968a2aac",
   "metadata": {},
   "source": [
    "###  xbar\n",
    "The xbar operation floors numerical values to the nearest lower multiple of a specified step size. It can be useful in several scenarios when dealing with trade or quote market data such as to create price bins/bands/buckets to reduce noise and smooth a signal so it can be more easily understood for visualization, backtesting, and clustering."
   ]
  },
  {
   "cell_type": "code",
   "execution_count": 14,
   "id": "daccdecc-6bbc-45ab-8693-f4e61227a885",
   "metadata": {},
   "outputs": [
    {
     "data": {
      "text/html": [
       "<table border=\"1\" class=\"dataframe\">\n",
       "  <thead>\n",
       "    <tr style=\"text-align: right;\">\n",
       "      <th></th>\n",
       "      <th>timestamp</th>\n",
       "      <th>open</th>\n",
       "      <th>high</th>\n",
       "      <th>low</th>\n",
       "      <th>close</th>\n",
       "      <th>volume</th>\n",
       "      <th>close_time</th>\n",
       "      <th>quote_asset_volume</th>\n",
       "      <th>number_of_trades</th>\n",
       "      <th>taker_buy_base_asset_volume</th>\n",
       "      <th>taker_buy_quote_asset_volume</th>\n",
       "      <th>ignore</th>\n",
       "      <th>date</th>\n",
       "    </tr>\n",
       "    <tr>\n",
       "      <th></th>\n",
       "      <th></th>\n",
       "      <th></th>\n",
       "      <th></th>\n",
       "      <th></th>\n",
       "      <th></th>\n",
       "      <th></th>\n",
       "      <th></th>\n",
       "      <th></th>\n",
       "      <th></th>\n",
       "      <th></th>\n",
       "      <th></th>\n",
       "      <th></th>\n",
       "      <th></th>\n",
       "    </tr>\n",
       "  </thead>\n",
       "  <tbody>\n",
       "    <tr>\n",
       "      <th>0</th>\n",
       "      <td>2017.08.17D04:00:00.000000000</td>\n",
       "      <td>4261.48e</td>\n",
       "      <td>4261.48e</td>\n",
       "      <td>4261.48e</td>\n",
       "      <td>4260f</td>\n",
       "      <td>1.775183</td>\n",
       "      <td>2017.08.17D04:00:59.999000000</td>\n",
       "      <td>7564.907</td>\n",
       "      <td>3h</td>\n",
       "      <td>0.075183</td>\n",
       "      <td>320.3909</td>\n",
       "      <td>0b</td>\n",
       "      <td>2017.08.17</td>\n",
       "    </tr>\n",
       "    <tr>\n",
       "      <th>1</th>\n",
       "      <td>2017.08.17D04:01:00.000000000</td>\n",
       "      <td>4261.48e</td>\n",
       "      <td>4261.48e</td>\n",
       "      <td>4261.48e</td>\n",
       "      <td>4260f</td>\n",
       "      <td>0f</td>\n",
       "      <td>2017.08.17D04:01:59.999000000</td>\n",
       "      <td>0f</td>\n",
       "      <td>0h</td>\n",
       "      <td>0f</td>\n",
       "      <td>0f</td>\n",
       "      <td>0b</td>\n",
       "      <td>2017.08.17</td>\n",
       "    </tr>\n",
       "    <tr>\n",
       "      <th>2</th>\n",
       "      <td>2017.08.17D04:02:00.000000000</td>\n",
       "      <td>4280.56e</td>\n",
       "      <td>4280.56e</td>\n",
       "      <td>4280.56e</td>\n",
       "      <td>4280f</td>\n",
       "      <td>0.261074</td>\n",
       "      <td>2017.08.17D04:02:59.999000000</td>\n",
       "      <td>1117.543</td>\n",
       "      <td>2h</td>\n",
       "      <td>0.261074</td>\n",
       "      <td>1117.543</td>\n",
       "      <td>0b</td>\n",
       "      <td>2017.08.17</td>\n",
       "    </tr>\n",
       "    <tr>\n",
       "      <th>3</th>\n",
       "      <td>2017.08.17D04:03:00.000000000</td>\n",
       "      <td>4261.48e</td>\n",
       "      <td>4261.48e</td>\n",
       "      <td>4261.48e</td>\n",
       "      <td>4260f</td>\n",
       "      <td>0.012008</td>\n",
       "      <td>2017.08.17D04:03:59.999000000</td>\n",
       "      <td>51.17185</td>\n",
       "      <td>3h</td>\n",
       "      <td>0.012008</td>\n",
       "      <td>51.17185</td>\n",
       "      <td>0b</td>\n",
       "      <td>2017.08.17</td>\n",
       "    </tr>\n",
       "    <tr>\n",
       "      <th>4</th>\n",
       "      <td>2017.08.17D04:04:00.000000000</td>\n",
       "      <td>4261.48e</td>\n",
       "      <td>4261.48e</td>\n",
       "      <td>4261.48e</td>\n",
       "      <td>4260f</td>\n",
       "      <td>0.140796</td>\n",
       "      <td>2017.08.17D04:04:59.999000000</td>\n",
       "      <td>599.9993</td>\n",
       "      <td>1h</td>\n",
       "      <td>0.140796</td>\n",
       "      <td>599.9993</td>\n",
       "      <td>0b</td>\n",
       "      <td>2017.08.17</td>\n",
       "    </tr>\n",
       "    <tr>\n",
       "      <th>5</th>\n",
       "      <td>2017.08.17D04:05:00.000000000</td>\n",
       "      <td>4261.48e</td>\n",
       "      <td>4261.48e</td>\n",
       "      <td>4261.48e</td>\n",
       "      <td>4260f</td>\n",
       "      <td>0f</td>\n",
       "      <td>2017.08.17D04:05:59.999000000</td>\n",
       "      <td>0f</td>\n",
       "      <td>0h</td>\n",
       "      <td>0f</td>\n",
       "      <td>0f</td>\n",
       "      <td>0b</td>\n",
       "      <td>2017.08.17</td>\n",
       "    </tr>\n",
       "    <tr>\n",
       "      <th>6</th>\n",
       "      <td>2017.08.17D04:06:00.000000000</td>\n",
       "      <td>4261.48e</td>\n",
       "      <td>4261.48e</td>\n",
       "      <td>4261.48e</td>\n",
       "      <td>4260f</td>\n",
       "      <td>0f</td>\n",
       "      <td>2017.08.17D04:06:59.999000000</td>\n",
       "      <td>0f</td>\n",
       "      <td>0h</td>\n",
       "      <td>0f</td>\n",
       "      <td>0f</td>\n",
       "      <td>0b</td>\n",
       "      <td>2017.08.17</td>\n",
       "    </tr>\n",
       "    <tr>\n",
       "      <th>7</th>\n",
       "      <td>2017.08.17D04:07:00.000000000</td>\n",
       "      <td>4261.48e</td>\n",
       "      <td>4261.48e</td>\n",
       "      <td>4261.48e</td>\n",
       "      <td>4260f</td>\n",
       "      <td>0f</td>\n",
       "      <td>2017.08.17D04:07:59.999000000</td>\n",
       "      <td>0f</td>\n",
       "      <td>0h</td>\n",
       "      <td>0f</td>\n",
       "      <td>0f</td>\n",
       "      <td>0b</td>\n",
       "      <td>2017.08.17</td>\n",
       "    </tr>\n",
       "    <tr>\n",
       "      <th>8</th>\n",
       "      <td>2017.08.17D04:08:00.000000000</td>\n",
       "      <td>4261.48e</td>\n",
       "      <td>4261.48e</td>\n",
       "      <td>4261.48e</td>\n",
       "      <td>4260f</td>\n",
       "      <td>0f</td>\n",
       "      <td>2017.08.17D04:08:59.999000000</td>\n",
       "      <td>0f</td>\n",
       "      <td>0h</td>\n",
       "      <td>0f</td>\n",
       "      <td>0f</td>\n",
       "      <td>0b</td>\n",
       "      <td>2017.08.17</td>\n",
       "    </tr>\n",
       "    <tr>\n",
       "      <th>9</th>\n",
       "      <td>2017.08.17D04:09:00.000000000</td>\n",
       "      <td>4261.48e</td>\n",
       "      <td>4261.48e</td>\n",
       "      <td>4261.48e</td>\n",
       "      <td>4260f</td>\n",
       "      <td>0f</td>\n",
       "      <td>2017.08.17D04:09:59.999000000</td>\n",
       "      <td>0f</td>\n",
       "      <td>0h</td>\n",
       "      <td>0f</td>\n",
       "      <td>0f</td>\n",
       "      <td>0b</td>\n",
       "      <td>2017.08.17</td>\n",
       "    </tr>\n",
       "    <tr>\n",
       "      <th>10</th>\n",
       "      <td>2017.08.17D04:10:00.000000000</td>\n",
       "      <td>4261.48e</td>\n",
       "      <td>4261.48e</td>\n",
       "      <td>4261.48e</td>\n",
       "      <td>4260f</td>\n",
       "      <td>0f</td>\n",
       "      <td>2017.08.17D04:10:59.999000000</td>\n",
       "      <td>0f</td>\n",
       "      <td>0h</td>\n",
       "      <td>0f</td>\n",
       "      <td>0f</td>\n",
       "      <td>0b</td>\n",
       "      <td>2017.08.17</td>\n",
       "    </tr>\n",
       "    <tr>\n",
       "      <th>11</th>\n",
       "      <td>2017.08.17D04:11:00.000000000</td>\n",
       "      <td>4261.48e</td>\n",
       "      <td>4261.48e</td>\n",
       "      <td>4261.48e</td>\n",
       "      <td>4260f</td>\n",
       "      <td>0f</td>\n",
       "      <td>2017.08.17D04:11:59.999000000</td>\n",
       "      <td>0f</td>\n",
       "      <td>0h</td>\n",
       "      <td>0f</td>\n",
       "      <td>0f</td>\n",
       "      <td>0b</td>\n",
       "      <td>2017.08.17</td>\n",
       "    </tr>\n",
       "    <tr>\n",
       "      <th>12</th>\n",
       "      <td>2017.08.17D04:12:00.000000000</td>\n",
       "      <td>4261.48e</td>\n",
       "      <td>4261.48e</td>\n",
       "      <td>4261.48e</td>\n",
       "      <td>4260f</td>\n",
       "      <td>0f</td>\n",
       "      <td>2017.08.17D04:12:59.999000000</td>\n",
       "      <td>0f</td>\n",
       "      <td>0h</td>\n",
       "      <td>0f</td>\n",
       "      <td>0f</td>\n",
       "      <td>0b</td>\n",
       "      <td>2017.08.17</td>\n",
       "    </tr>\n",
       "    <tr>\n",
       "      <th>...</th>\n",
       "      <td>...</td>\n",
       "      <td>...</td>\n",
       "      <td>...</td>\n",
       "      <td>...</td>\n",
       "      <td>...</td>\n",
       "      <td>...</td>\n",
       "      <td>...</td>\n",
       "      <td>...</td>\n",
       "      <td>...</td>\n",
       "      <td>...</td>\n",
       "      <td>...</td>\n",
       "      <td>...</td>\n",
       "      <td>...</td>\n",
       "    </tr>\n",
       "    <tr>\n",
       "      <th>3565389</th>\n",
       "      <td>2024.06.03D03:00:00.000000000</td>\n",
       "      <td>68416.09e</td>\n",
       "      <td>68451.07e</td>\n",
       "      <td>68412e</td>\n",
       "      <td>68430f</td>\n",
       "      <td>18.64174</td>\n",
       "      <td>2024.06.03D03:00:59.999000000</td>\n",
       "      <td>1275749f</td>\n",
       "      <td>974h</td>\n",
       "      <td>8.02757</td>\n",
       "      <td>549325.4</td>\n",
       "      <td>0b</td>\n",
       "      <td>2024.06.03</td>\n",
       "    </tr>\n",
       "  </tbody>\n",
       "</table>\n",
       "<p>3,565,390 rows × 13 columns</p>"
      ],
      "text/plain": [
       "pykx.Table(pykx.q('\n",
       "timestamp                     open    high    low     close volume   close_time                  ..\n",
       "-------------------------------------------------------------------------------------------------..\n",
       "2017.08.17D04:00:00.000000000 4261.48 4261.48 4261.48 4260  1.775183 2017.08.17D04:00:59.99900000..\n",
       "2017.08.17D04:01:00.000000000 4261.48 4261.48 4261.48 4260  0        2017.08.17D04:01:59.99900000..\n",
       "2017.08.17D04:02:00.000000000 4280.56 4280.56 4280.56 4280  0.261074 2017.08.17D04:02:59.99900000..\n",
       "2017.08.17D04:03:00.000000000 4261.48 4261.48 4261.48 4260  0.012008 2017.08.17D04:03:59.99900000..\n",
       "2017.08.17D04:04:00.000000000 4261.48 4261.48 4261.48 4260  0.140796 2017.08.17D04:04:59.99900000..\n",
       "2017.08.17D04:05:00.000000000 4261.48 4261.48 4261.48 4260  0        2017.08.17D04:05:59.99900000..\n",
       "2017.08.17D04:06:00.000000000 4261.48 4261.48 4261.48 4260  0        2017.08.17D04:06:59.99900000..\n",
       "2017.08.17D04:07:00.000000000 4261.48 4261.48 4261.48 4260  0        2017.08.17D04:07:59.99900000..\n",
       "2017.08.17D04:08:00.000000000 4261.48 4261.48 4261.48 4260  0        2017.08.17D04:08:59.99900000..\n",
       "2017.08.17D04:09:00.000000000 4261.48 4261.48 4261.48 4260  0        2017.08.17D04:09:59.99900000..\n",
       "..\n",
       "'))"
      ]
     },
     "execution_count": 14,
     "metadata": {},
     "output_type": "execute_result"
    }
   ],
   "source": [
    "# Apply the xbar operation to the 'close' column, flooring values to the nearest lower multiple of 10\n",
    "tab_BTC.xbar({'close': 10})"
   ]
  },
  {
   "cell_type": "markdown",
   "id": "c15b2081-59f6-48d3-bcd1-0e42dc11ad5d",
   "metadata": {},
   "source": [
    "### Window Join\n",
    "Window joins provide the ability to analyse the behaviour of data in one table in the neighborhood of another. To understand this concept, we will create two new tables, a trades table and quotes table."
   ]
  },
  {
   "cell_type": "code",
   "execution_count": 15,
   "id": "6f8c716d-3355-4e19-88c8-0fcf1cc4ca5a",
   "metadata": {},
   "outputs": [
    {
     "data": {
      "text/plain": [
       "pykx.List(pykx.q('\n",
       "10:00:59 10:01:02 10:01:06\n",
       "10:01:02 10:01:05 10:01:09\n",
       "'))"
      ]
     },
     "execution_count": 15,
     "metadata": {},
     "output_type": "execute_result"
    }
   ],
   "source": [
    "# Setup\n",
    "# Create a trades table\n",
    "trades = kx.Table(data={\n",
    "    'sym': ['ibm', 'ibm', 'ibm'],\n",
    "    'time': kx.q('10:01:01 10:01:04 10:01:08'),\n",
    "    'price': [100, 101, 105]})\n",
    "\n",
    "# Create a quotes table\n",
    "quotes = kx.Table(data={\n",
    "    'sym': ['ibm'] * 9,  # Ensure 'sym' has the same number of entries as 'time'\n",
    "    'time': kx.q('10:01:01+til 9'),\n",
    "    'ask': [101, 103, 103, 104, 104, 107, 108, 107, 108],\n",
    "    'bid': [98, 99, 102, 103, 103, 104, 106, 106, 107]\n",
    "})\n",
    "\n",
    "# Create a window, two seconds before and 1 second after each time in the trades table\n",
    "windows = kx.q('{-2 1+\\:x}', trades['time'])\n",
    "windows"
   ]
  },
  {
   "cell_type": "code",
   "execution_count": 16,
   "id": "ed0bcb47-1b2d-4da6-a6c5-56a577eb4a93",
   "metadata": {
    "tags": []
   },
   "outputs": [
    {
     "data": {
      "text/html": [
       "<table border=\"1\" class=\"dataframe\">\n",
       "  <thead>\n",
       "    <tr style=\"text-align: right;\">\n",
       "      <th></th>\n",
       "      <th>sym</th>\n",
       "      <th>time</th>\n",
       "      <th>price</th>\n",
       "      <th>ask_minus_bid</th>\n",
       "      <th>ask_max</th>\n",
       "    </tr>\n",
       "    <tr>\n",
       "      <th></th>\n",
       "      <th></th>\n",
       "      <th></th>\n",
       "      <th></th>\n",
       "      <th></th>\n",
       "      <th></th>\n",
       "    </tr>\n",
       "  </thead>\n",
       "  <tbody>\n",
       "    <tr>\n",
       "      <th>0</th>\n",
       "      <td>ibm</td>\n",
       "      <td>10:01:01</td>\n",
       "      <td>100</td>\n",
       "      <td>3 4</td>\n",
       "      <td>103</td>\n",
       "    </tr>\n",
       "    <tr>\n",
       "      <th>1</th>\n",
       "      <td>ibm</td>\n",
       "      <td>10:01:04</td>\n",
       "      <td>101</td>\n",
       "      <td>4 1 1 1</td>\n",
       "      <td>104</td>\n",
       "    </tr>\n",
       "    <tr>\n",
       "      <th>2</th>\n",
       "      <td>ibm</td>\n",
       "      <td>10:01:08</td>\n",
       "      <td>105</td>\n",
       "      <td>3 2 1 1</td>\n",
       "      <td>108</td>\n",
       "    </tr>\n",
       "  </tbody>\n",
       "</table>"
      ],
      "text/plain": [
       "pykx.Table(pykx.q('\n",
       "sym time     price ask_minus_bid ask_max\n",
       "----------------------------------------\n",
       "ibm 10:01:01 100   3 4           103    \n",
       "ibm 10:01:04 101   4 1 1 1       104    \n",
       "ibm 10:01:08 105   3 2 1 1       108    \n",
       "'))"
      ]
     },
     "execution_count": 16,
     "metadata": {},
     "output_type": "execute_result"
    }
   ],
   "source": [
    "# Perform the window_join\n",
    "trades.window_join(quotes,\n",
    "                   windows,\n",
    "                   ['sym', 'time'],\n",
    "                   {'ask_minus_bid': [lambda x, y: x - y, 'ask', 'bid'],\n",
    "                    'ask_max': [lambda x: max(x), 'ask']})"
   ]
  }
 ],
 "metadata": {
  "kernelspec": {
   "display_name": "Python 3 (ipykernel)",
   "language": "python",
   "name": "python3"
  },
  "language_info": {
   "codemirror_mode": {
    "name": "ipython",
    "version": 3
   },
   "file_extension": ".py",
   "mimetype": "text/x-python",
   "name": "python",
   "nbconvert_exporter": "python",
   "pygments_lexer": "ipython3",
   "version": "3.10.12"
  }
 },
 "nbformat": 4,
 "nbformat_minor": 5
}
