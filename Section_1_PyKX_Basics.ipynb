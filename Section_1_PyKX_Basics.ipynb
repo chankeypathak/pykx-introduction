{
 "cells": [
  {
   "cell_type": "code",
   "execution_count": 1,
   "id": "b8e1cfd0-a3fd-49e2-8b6f-6872d38a33bd",
   "metadata": {
    "tags": []
   },
   "outputs": [],
   "source": [
    "# Setup\n",
    "import numpy as np\n",
    "import pandas as pd\n",
    "import pyarrow as pa\n",
    "\n",
    "import pykx as kx\n",
    "kx.q.system.console_size = [15, 100]"
   ]
  },
  {
   "cell_type": "markdown",
   "id": "a9e35a60-259e-4e61-b0a9-757a15cb1aaa",
   "metadata": {},
   "source": [
    "# Section #1: PyKX Basics"
   ]
  },
  {
   "cell_type": "markdown",
   "id": "0e395141-3c4e-4dcb-b8b0-b75a7c0e63bf",
   "metadata": {},
   "source": [
    "## Data Structures in PyKX:\n"
   ]
  },
  {
   "cell_type": "markdown",
   "id": "c350cec6-3d58-4a7a-8136-9fb3b7215f2a",
   "metadata": {},
   "source": [
    "### Atomic Types:\n",
    "[Reference Card](https://code.kx.com/q/ref/#datatypes) for PyKX types\n",
    "\n",
    "An atomic type refers to the most basic, indivisible data types that the library supports"
   ]
  },
  {
   "cell_type": "code",
   "execution_count": 2,
   "id": "591dfa2f-c825-4f48-bf59-026da8970065",
   "metadata": {
    "tags": []
   },
   "outputs": [
    {
     "name": "stdout",
     "output_type": "stream",
     "text": [
      "1f\n",
      "1f\n"
     ]
    }
   ],
   "source": [
    "# Atomic Float Type\n",
    "\n",
    "print(kx.FloatAtom(1.0))\n",
    "#or\n",
    "print(kx.q('1.0f'))"
   ]
  },
  {
   "cell_type": "code",
   "execution_count": 3,
   "id": "f676f1e8-183f-4331-871a-f17478502cb4",
   "metadata": {},
   "outputs": [
    {
     "name": "stdout",
     "output_type": "stream",
     "text": [
      "1i\n",
      "1i\n"
     ]
    }
   ],
   "source": [
    "# Atomic Int type\n",
    "\n",
    "print(kx.IntAtom(1))\n",
    "#or\n",
    "print(kx.q('1i'))"
   ]
  },
  {
   "cell_type": "code",
   "execution_count": 4,
   "id": "4ea3b14b-8c84-45f6-aab1-2ffce126cf49",
   "metadata": {},
   "outputs": [
    {
     "name": "stdout",
     "output_type": "stream",
     "text": [
      "1b\n",
      "1b\n",
      "1b\n",
      "0b\n",
      "0b\n",
      "0b\n"
     ]
    }
   ],
   "source": [
    "# Atomic Boolean type\n",
    "\n",
    "print(kx.BooleanAtom(True))\n",
    "print(kx.BooleanAtom(1))\n",
    "print(kx.q('1b'))\n",
    "#or\n",
    "print(kx.BooleanAtom(False))\n",
    "print(kx.BooleanAtom(0))\n",
    "print(kx.q('0b'))"
   ]
  },
  {
   "cell_type": "code",
   "execution_count": 5,
   "id": "1e9f4721-d46f-43e5-beba-0a9f3c78bf0b",
   "metadata": {},
   "outputs": [
    {
     "name": "stdout",
     "output_type": "stream",
     "text": [
      "abc\n",
      "abc\n"
     ]
    }
   ],
   "source": [
    "# Atomic Symbol type\n",
    "\n",
    "print(kx.SymbolAtom('abc'))\n",
    "#or\n",
    "print(kx.q('`abc'))"
   ]
  },
  {
   "cell_type": "code",
   "execution_count": 6,
   "id": "e96a1fb4-8af2-47b2-9d82-d2eb7fc16533",
   "metadata": {},
   "outputs": [
    {
     "name": "stdout",
     "output_type": "stream",
     "text": [
      "2017.08.17D04:00:00.000000000\n",
      "2000.01.01\n",
      "2000.01m\n"
     ]
    }
   ],
   "source": [
    "# Atomic timestamp type\n",
    "print(kx.q('2017.08.17D04:00:00.000000000'))\n",
    "\n",
    "# Atomic Date type\n",
    "print(kx.q('2000.01.01d'))\n",
    "\n",
    "# Atomic month\n",
    "print(kx.q('2000.01m'))"
   ]
  },
  {
   "cell_type": "markdown",
   "id": "1cb24ab0-499f-4626-aebb-a3ba78b19d70",
   "metadata": {
    "hidden": true,
    "reveal": "kb36jx9jgo",
    "reveal-hidden": true,
    "tags": []
   },
   "source": [
    "##### Exercise 1\n",
    "+ Return the atomic time for 11:47am"
   ]
  },
  {
   "cell_type": "code",
   "execution_count": 7,
   "id": "3f0203c1-6291-4180-8a15-4acef305e151",
   "metadata": {
    "hidden": true,
    "reveal": "kb36jx9jgo",
    "tags": []
   },
   "outputs": [
    {
     "name": "stdout",
     "output_type": "stream",
     "text": [
      "11:47:00.000\n"
     ]
    }
   ],
   "source": [
    "print(kx.q('11:47:00.000'))"
   ]
  },
  {
   "cell_type": "markdown",
   "id": "6f7b47a9-e8fb-42ca-be9a-5c6f21608080",
   "metadata": {},
   "source": [
    "### PyKX Collection Data Structure Types"
   ]
  },
  {
   "cell_type": "markdown",
   "id": "75488463-20c4-4d64-86cf-9173f1e135e6",
   "metadata": {},
   "source": [
    "### Vector Types:"
   ]
  },
  {
   "cell_type": "code",
   "execution_count": 8,
   "id": "adf5b072-ba03-4b0d-8343-8d3c58e3c97b",
   "metadata": {},
   "outputs": [
    {
     "data": {
      "text/plain": [
       "pykx.IntVector(pykx.q('1 2 3 4i'))"
      ]
     },
     "execution_count": 8,
     "metadata": {},
     "output_type": "execute_result"
    }
   ],
   "source": [
    "kx.IntVector([1,2,3,4])"
   ]
  },
  {
   "cell_type": "code",
   "execution_count": 9,
   "id": "2c7221f9-2246-4435-9906-680f338eeb81",
   "metadata": {},
   "outputs": [
    {
     "data": {
      "text/plain": [
       "pykx.IntVector(pykx.q('1 2 3 4i'))"
      ]
     },
     "execution_count": 9,
     "metadata": {},
     "output_type": "execute_result"
    }
   ],
   "source": [
    "# From a Numpy array\n",
    "kx.IntVector(np.array([1, 2, 3, 4], dtype=np.int32))"
   ]
  },
  {
   "cell_type": "code",
   "execution_count": 10,
   "id": "8811a6bc-bde2-4362-aaf8-cc2d50d155cd",
   "metadata": {},
   "outputs": [
    {
     "data": {
      "text/plain": [
       "pykx.LongVector(pykx.q('1 2 3 4'))"
      ]
     },
     "execution_count": 10,
     "metadata": {},
     "output_type": "execute_result"
    }
   ],
   "source": [
    "# From a Pandas series\n",
    "kx.toq(pd.Series([1, 2, 3, 4]))"
   ]
  },
  {
   "cell_type": "markdown",
   "id": "64015366-9aa9-4a68-8a8e-c2709e96493d",
   "metadata": {},
   "source": [
    "### PyKX Lists:"
   ]
  },
  {
   "cell_type": "code",
   "execution_count": 11,
   "id": "b553f807-5731-4060-bbdc-195be973d49b",
   "metadata": {},
   "outputs": [
    {
     "data": {
      "text/plain": [
       "pykx.List(pykx.q('\n",
       "1 2 3\n",
       "4 5 6\n",
       "a b c\n",
       "'))"
      ]
     },
     "execution_count": 11,
     "metadata": {},
     "output_type": "execute_result"
    }
   ],
   "source": [
    "kx.List([[1,2,3], [4,5,6],['a','b','c']])"
   ]
  },
  {
   "cell_type": "markdown",
   "id": "e70332a5-1b9f-4f31-ad22-73c578d47aea",
   "metadata": {},
   "source": [
    "### PyKX Dictionaries:"
   ]
  },
  {
   "cell_type": "code",
   "execution_count": 12,
   "id": "3f070efd-7212-4d5b-8650-847ffe63588b",
   "metadata": {},
   "outputs": [
    {
     "name": "stdout",
     "output_type": "stream",
     "text": [
      "x | 1 2 3\n",
      "x1| 1 2 3\n"
     ]
    }
   ],
   "source": [
    "print(kx.Dictionary({'x': [1, 2, 3], 'x1': np.array([1, 2, 3])}))"
   ]
  },
  {
   "cell_type": "markdown",
   "id": "efeaed0d-8895-47ad-b1ae-64813486664a",
   "metadata": {},
   "source": [
    "### PyKX Tables:"
   ]
  },
  {
   "cell_type": "markdown",
   "id": "bdae8556-49bf-4c25-9527-49df373a106a",
   "metadata": {},
   "source": [
    "##### Example 1:"
   ]
  },
  {
   "cell_type": "code",
   "execution_count": 13,
   "id": "ed597c2f-eeb5-4e6c-8123-cb5e13d0bdc2",
   "metadata": {},
   "outputs": [
    {
     "name": "stdout",
     "output_type": "stream",
     "text": [
      "col1 col2 col3\n",
      "--------------\n",
      "1    2    a   \n",
      "2    3    b   \n",
      "3    4    c   \n"
     ]
    }
   ],
   "source": [
    "print(kx.Table([[1, 2, 'a'], [2, 3, 'b'], [3, 4, 'c']], columns = ['col1', 'col2', 'col3']))"
   ]
  },
  {
   "cell_type": "markdown",
   "id": "c7fdd423-b29e-45ce-b8a1-b153592eee29",
   "metadata": {},
   "source": [
    "##### Example 2:"
   ]
  },
  {
   "cell_type": "code",
   "execution_count": 14,
   "id": "ccc2c8f2-b8d0-45e0-a765-c60f8063a6a5",
   "metadata": {},
   "outputs": [
    {
     "name": "stdout",
     "output_type": "stream",
     "text": [
      "col1 col2 col3\n",
      "--------------\n",
      "1    2    a   \n",
      "2    3    b   \n",
      "3    4    c   \n"
     ]
    }
   ],
   "source": [
    "print(kx.Table(data = {'col1': [1, 2, 3], 'col2': [2 , 3, 4], 'col3': ['a', 'b', 'c']}))"
   ]
  },
  {
   "cell_type": "markdown",
   "id": "ff53a069-fe1d-4aa9-9088-fb98854ef10b",
   "metadata": {},
   "source": [
    "### PyKX Keyed Tables:"
   ]
  },
  {
   "cell_type": "code",
   "execution_count": 15,
   "id": "01083350-b18b-4e47-86de-cac614b76929",
   "metadata": {},
   "outputs": [
    {
     "data": {
      "text/html": [
       "<table border=\"1\" class=\"dataframe\">\n",
       "  <thead>\n",
       "    <tr style=\"text-align: right;\">\n",
       "      <th></th>\n",
       "      <th>x1</th>\n",
       "      <th>x2</th>\n",
       "    </tr>\n",
       "    <tr>\n",
       "      <th>x</th>\n",
       "      <th></th>\n",
       "      <th></th>\n",
       "    </tr>\n",
       "  </thead>\n",
       "  <tbody>\n",
       "    <tr>\n",
       "      <th>1</th>\n",
       "      <td>2</td>\n",
       "      <td>a</td>\n",
       "    </tr>\n",
       "    <tr>\n",
       "      <th>2</th>\n",
       "      <td>3</td>\n",
       "      <td>b</td>\n",
       "    </tr>\n",
       "    <tr>\n",
       "      <th>3</th>\n",
       "      <td>4</td>\n",
       "      <td>c</td>\n",
       "    </tr>\n",
       "  </tbody>\n",
       "</table>"
      ],
      "text/plain": [
       "pykx.KeyedTable(pykx.q('\n",
       "x| x1 x2\n",
       "-| -----\n",
       "1| 2  a \n",
       "2| 3  b \n",
       "3| 4  c \n",
       "'))"
      ]
     },
     "execution_count": 15,
     "metadata": {},
     "output_type": "execute_result"
    }
   ],
   "source": [
    "kx.Table(data = {'x': [1, 2, 3], 'x1': [2, 3, 4], 'x2': ['a', 'b', 'c']}).set_index(['x'])"
   ]
  },
  {
   "cell_type": "markdown",
   "id": "27337122-fdc3-4e66-b126-78c4bd1cede2",
   "metadata": {
    "reveal": "fl8ly0ortnd",
    "reveal-hidden": true,
    "tags": []
   },
   "source": [
    "##### Exercise 2\n",
    "+ Create a keyed table using the layout of example 1."
   ]
  },
  {
   "cell_type": "code",
   "execution_count": 16,
   "id": "18e1fe0c-4d84-498c-a191-c1e5b9326986",
   "metadata": {
    "reveal": "fl8ly0ortnd"
   },
   "outputs": [
    {
     "name": "stdout",
     "output_type": "stream",
     "text": [
      "col1| col2 col3\n",
      "----| ---------\n",
      "1   | 2    a   \n",
      "2   | 3    b   \n",
      "3   | 4    c   \n"
     ]
    }
   ],
   "source": [
    "print(kx.Table([[1, 2, 'a'], [2, 3, 'b'], [3, 4, 'c']], columns = ['col1', 'col2', 'col3']).set_index(['col1']))"
   ]
  },
  {
   "cell_type": "markdown",
   "id": "5cfa912f-b8d6-487c-bdba-e24b9fa64033",
   "metadata": {},
   "source": [
    "## Generating PyKX Objects\n",
    "In order to use the power of q and the functionality provided by PyKX a user must at some point interact with a PyKX object. At it's most basic level these items are allocated C representations of q/kdb+ objects within a memory space managed by q. Keeping the data in this format allows it to be used directly for query/analytic execution in q without any translation overhead.\n",
    "\n",
    "There are a number of ways to generate PyKX objects:\n",
    "\n",
    "- Explicitly converting from a Python object to a PyKX object\n",
    "\n",
    "- By evaluating q code using kx.q\n",
    "\n",
    "- By retrieving a named entity from q's memory\n",
    " \n",
    "- Through query of an external q session"
   ]
  },
  {
   "cell_type": "markdown",
   "id": "37431f31-85df-42e5-8087-8c814e33eaf5",
   "metadata": {},
   "source": [
    "### Creating PyKX Objects from Python Objects\n",
    "This is one of the most common ways that PyKX data is generated.\n",
    "Example formats include:\n",
    "- Python\n",
    "- Numpy\n",
    "- Pandas\n",
    "- PyArrow"
   ]
  },
  {
   "cell_type": "markdown",
   "id": "1be9cb8d-1964-4532-a127-775cf40c5331",
   "metadata": {},
   "source": [
    "#### Python Dictionary to PyKX Dictionary"
   ]
  },
  {
   "cell_type": "code",
   "execution_count": 17,
   "id": "d9a14b3c-96f4-4d40-8bd3-5bfe57a62c11",
   "metadata": {},
   "outputs": [
    {
     "data": {
      "text/html": [
       "<table border=\"1\" class=\"dataframe\">\n",
       "  <thead>\n",
       "    <tr style=\"text-align: right;\">\n",
       "      <th></th>\n",
       "      <th></th>\n",
       "    </tr>\n",
       "    <tr>\n",
       "      <th></th>\n",
       "      <th></th>\n",
       "    </tr>\n",
       "  </thead>\n",
       "  <tbody>\n",
       "    <tr>\n",
       "      <th>a</th>\n",
       "      <td>1 2 3</td>\n",
       "    </tr>\n",
       "    <tr>\n",
       "      <th>b</th>\n",
       "      <td>`a`b`c</td>\n",
       "    </tr>\n",
       "    <tr>\n",
       "      <th>c</th>\n",
       "      <td>2</td>\n",
       "    </tr>\n",
       "  </tbody>\n",
       "</table>"
      ],
      "text/plain": [
       "pykx.Dictionary(pykx.q('\n",
       "a| 1 2 3\n",
       "b| `a`b`c\n",
       "c| 2\n",
       "'))"
      ]
     },
     "execution_count": 17,
     "metadata": {},
     "output_type": "execute_result"
    }
   ],
   "source": [
    "pydict = {'a': [1, 2, 3], 'b': ['a', 'b', 'c'], 'c': 2}\n",
    "pykx_dict = kx.toq(pydict)\n",
    "pykx_dict"
   ]
  },
  {
   "cell_type": "markdown",
   "id": "c325821e-af74-42bf-b97a-75089b58234f",
   "metadata": {},
   "source": [
    "#### Numpy Array to PyKX Vector"
   ]
  },
  {
   "cell_type": "code",
   "execution_count": 18,
   "id": "df76cb17-9333-4a9d-be5e-ee1f17c98356",
   "metadata": {},
   "outputs": [
    {
     "data": {
      "text/plain": [
       "pykx.IntVector(pykx.q('1 2 3 4i'))"
      ]
     },
     "execution_count": 18,
     "metadata": {},
     "output_type": "execute_result"
    }
   ],
   "source": [
    "nparray = np.array([1, 2, 3, 4], dtype = np.int32)\n",
    "pykx_vector = kx.toq(nparray)\n",
    "pykx_vector"
   ]
  },
  {
   "cell_type": "markdown",
   "id": "cdc90bfc-0db3-4d82-abd4-8480e5ee6509",
   "metadata": {},
   "source": [
    "#### Pandas DataFrame to PyKX Table"
   ]
  },
  {
   "cell_type": "code",
   "execution_count": 19,
   "id": "5a2f0638-a3f9-43b7-bef3-3816048a8226",
   "metadata": {},
   "outputs": [
    {
     "data": {
      "text/html": [
       "<table border=\"1\" class=\"dataframe\">\n",
       "  <thead>\n",
       "    <tr style=\"text-align: right;\">\n",
       "      <th></th>\n",
       "      <th>a</th>\n",
       "      <th>b</th>\n",
       "    </tr>\n",
       "    <tr>\n",
       "      <th></th>\n",
       "      <th></th>\n",
       "      <th></th>\n",
       "    </tr>\n",
       "  </thead>\n",
       "  <tbody>\n",
       "    <tr>\n",
       "      <th>0</th>\n",
       "      <td>1</td>\n",
       "      <td>a</td>\n",
       "    </tr>\n",
       "    <tr>\n",
       "      <th>1</th>\n",
       "      <td>2</td>\n",
       "      <td>b</td>\n",
       "    </tr>\n",
       "    <tr>\n",
       "      <th>2</th>\n",
       "      <td>3</td>\n",
       "      <td>c</td>\n",
       "    </tr>\n",
       "  </tbody>\n",
       "</table>"
      ],
      "text/plain": [
       "pykx.Table(pykx.q('\n",
       "a b\n",
       "---\n",
       "1 a\n",
       "2 b\n",
       "3 c\n",
       "'))"
      ]
     },
     "execution_count": 19,
     "metadata": {},
     "output_type": "execute_result"
    }
   ],
   "source": [
    "pdframe = pd.DataFrame(data = {'a':[1, 2, 3], 'b': ['a', 'b', 'c']})\n",
    "pykx_table = kx.toq(pdframe)\n",
    "pykx_table"
   ]
  },
  {
   "cell_type": "markdown",
   "id": "4c65ccf4-10c9-4379-bc6b-62d7451ee851",
   "metadata": {},
   "source": [
    "#### PyArrow Array to PyKX List"
   ]
  },
  {
   "cell_type": "code",
   "execution_count": 20,
   "id": "23179c35-2696-451a-97fd-bcbbaca4449b",
   "metadata": {},
   "outputs": [
    {
     "data": {
      "text/plain": [
       "pykx.List(pykx.q('\n",
       "1\n",
       "2.5\n",
       "`abc\n",
       "\"defg\"\n",
       "'))"
      ]
     },
     "execution_count": 20,
     "metadata": {},
     "output_type": "execute_result"
    }
   ],
   "source": [
    "pyArray = [1, 2.5, \"abc\", b\"defg\"]\n",
    "pykx_list = kx.toq(pyArray)\n",
    "pykx_list"
   ]
  },
  {
   "cell_type": "markdown",
   "id": "f7c91944-518c-4ae2-8314-f8942cff5dd1",
   "metadata": {},
   "source": [
    "### Convert PyKX Objects to Pythonic Types"
   ]
  },
  {
   "cell_type": "markdown",
   "id": "87e79eb5-a9cb-4d2f-97c1-b633757c3a73",
   "metadata": {},
   "source": [
    "#### PyKX Dictionary to Python List"
   ]
  },
  {
   "cell_type": "code",
   "execution_count": 21,
   "id": "2bb5e914-5552-473d-85e3-23c8bfc3806c",
   "metadata": {},
   "outputs": [
    {
     "data": {
      "text/plain": [
       "{'a': [1, 2, 3], 'b': ['a', 'b', 'c'], 'c': 2}"
      ]
     },
     "execution_count": 21,
     "metadata": {},
     "output_type": "execute_result"
    }
   ],
   "source": [
    "pykx_dict.py()"
   ]
  },
  {
   "cell_type": "markdown",
   "id": "7485812a-576d-46a4-bf2f-7b9a24c6cf4b",
   "metadata": {},
   "source": [
    "#### PyKX Vector to Numpy Array"
   ]
  },
  {
   "cell_type": "code",
   "execution_count": 22,
   "id": "284fa773-c4a4-4aa7-ba77-f773c19e14c8",
   "metadata": {},
   "outputs": [
    {
     "data": {
      "text/plain": [
       "array([1, 2, 3, 4], dtype=int32)"
      ]
     },
     "execution_count": 22,
     "metadata": {},
     "output_type": "execute_result"
    }
   ],
   "source": [
    "pykx_vector.np()"
   ]
  },
  {
   "cell_type": "markdown",
   "id": "8fcd36e9-79ae-413c-9d9e-bfd48e461c0e",
   "metadata": {},
   "source": [
    "#### PyKX Table to Pandas Dataframe"
   ]
  },
  {
   "cell_type": "code",
   "execution_count": 23,
   "id": "7f5209c4-ab45-4e38-b85c-ceb6731b26be",
   "metadata": {},
   "outputs": [
    {
     "data": {
      "text/html": [
       "<div>\n",
       "<style scoped>\n",
       "    .dataframe tbody tr th:only-of-type {\n",
       "        vertical-align: middle;\n",
       "    }\n",
       "\n",
       "    .dataframe tbody tr th {\n",
       "        vertical-align: top;\n",
       "    }\n",
       "\n",
       "    .dataframe thead th {\n",
       "        text-align: right;\n",
       "    }\n",
       "</style>\n",
       "<table border=\"1\" class=\"dataframe\">\n",
       "  <thead>\n",
       "    <tr style=\"text-align: right;\">\n",
       "      <th></th>\n",
       "      <th>a</th>\n",
       "      <th>b</th>\n",
       "    </tr>\n",
       "  </thead>\n",
       "  <tbody>\n",
       "    <tr>\n",
       "      <th>0</th>\n",
       "      <td>1</td>\n",
       "      <td>a</td>\n",
       "    </tr>\n",
       "    <tr>\n",
       "      <th>1</th>\n",
       "      <td>2</td>\n",
       "      <td>b</td>\n",
       "    </tr>\n",
       "    <tr>\n",
       "      <th>2</th>\n",
       "      <td>3</td>\n",
       "      <td>c</td>\n",
       "    </tr>\n",
       "  </tbody>\n",
       "</table>\n",
       "</div>"
      ],
      "text/plain": [
       "   a  b\n",
       "0  1  a\n",
       "1  2  b\n",
       "2  3  c"
      ]
     },
     "execution_count": 23,
     "metadata": {},
     "output_type": "execute_result"
    }
   ],
   "source": [
    "pykx_table.pd()"
   ]
  },
  {
   "cell_type": "markdown",
   "id": "3980aeb9-dddf-4d32-ab8b-8466b25ccf33",
   "metadata": {},
   "source": [
    "## Data Generation Using PyKX Inbuilt Functions"
   ]
  },
  {
   "cell_type": "markdown",
   "id": "2061c929-86d5-491d-ba7a-fd6c59737d40",
   "metadata": {},
   "source": [
    "#### Generating Data with 'random' Function"
   ]
  },
  {
   "cell_type": "code",
   "execution_count": 24,
   "id": "08e8df21-059e-4132-acf5-570be656879d",
   "metadata": {},
   "outputs": [
    {
     "data": {
      "text/plain": [
       "pykx.FloatVector(pykx.q('39.27524 51.70911 51.59796 40.66642 17.80839 30.17723 78.5033 53.47096 71.11716 41.1597 49.31835 ..'))"
      ]
     },
     "execution_count": 24,
     "metadata": {},
     "output_type": "execute_result"
    }
   ],
   "source": [
    "# Generate Vector of 1 million Random Floating Point Values between 0 and 100.0\n",
    "kx.random.random(1000000,100.0)"
   ]
  },
  {
   "cell_type": "code",
   "execution_count": 25,
   "id": "6e076770-a76f-4141-9f2d-5777ae1deb7e",
   "metadata": {},
   "outputs": [
    {
     "data": {
      "text/plain": [
       "pykx.List(pykx.q('62 94 27 50 40 32 88 22 98 53'))"
      ]
     },
     "execution_count": 25,
     "metadata": {},
     "output_type": "execute_result"
    }
   ],
   "source": [
    "# Generate list of 10 values between 0 and 100\n",
    "kx.random.random([1,10],100)"
   ]
  },
  {
   "cell_type": "code",
   "execution_count": 26,
   "id": "b7b859ee-129e-4fc3-8513-44cfa9236bd2",
   "metadata": {},
   "outputs": [
    {
     "data": {
      "text/plain": [
       "pykx.List(pykx.q('\n",
       "0 0 1 0 1 1 0 1 1 0 1 0\n",
       "0 1 0 0 0 0 0 0 0 1 1 0\n",
       "'))"
      ]
     },
     "execution_count": 26,
     "metadata": {},
     "output_type": "execute_result"
    }
   ],
   "source": [
    "# Generate a multi-dimensional list\n",
    "kx.random.random([2,3,4], 2)"
   ]
  },
  {
   "cell_type": "code",
   "execution_count": 27,
   "id": "69c0cb6c-079e-443f-a332-a4b4227abf1e",
   "metadata": {},
   "outputs": [
    {
     "name": "stdout",
     "output_type": "stream",
     "text": [
      "bf46ae83-4272-4d6f-0ed4-dd40c1376e29\n",
      "8e6cb502-b0cf-9c03-d024-833c0b9ac483\n",
      "8c2f866d-0f4e-4a96-bf8b-228220fbb9d4\n",
      "61604999-49e9-f066-48f7-e88e92363957\n",
      "8b3dfe26-6d4c-620f-f7c0-31852decc639\n",
      "1566069007 1773121422 2104411811 1441846567 103906494  315107819 \n",
      "931560883 2025997683  253249654 1026292723  391856598 789142547  \n"
     ]
    }
   ],
   "source": [
    "# Use nulls and infinties to generate random data across the full allowable range:\n",
    "print(kx.random.random([5, 1], kx.GUIDAtom.null))\n",
    "print(kx.random.random([2, 3, 2], kx.IntAtom.inf))"
   ]
  },
  {
   "cell_type": "code",
   "execution_count": 28,
   "id": "338317ea-e92b-41bc-b830-319903eba3bc",
   "metadata": {},
   "outputs": [
    {
     "data": {
      "text/plain": [
       "pykx.FloatVector(pykx.q('8.91041 83.45194 36.21949 99.9934 38.37986 86.19188 9.183638 25.30883 25.04566 75.17286'))"
      ]
     },
     "execution_count": 28,
     "metadata": {},
     "output_type": "execute_result"
    }
   ],
   "source": [
    "# Set the seed globally\n",
    "kx.random.seed(10)\n",
    "\n",
    "# Or, set the seed for individual function call\n",
    "kx.random.random(10, 100.0, seed = 10)"
   ]
  },
  {
   "cell_type": "code",
   "execution_count": 29,
   "id": "b7d1c4e6-f6a7-48df-8f30-0a8a77a76bab",
   "metadata": {},
   "outputs": [
    {
     "data": {
      "text/html": [
       "<table border=\"1\" class=\"dataframe\">\n",
       "  <thead>\n",
       "    <tr style=\"text-align: right;\">\n",
       "      <th></th>\n",
       "      <th>x</th>\n",
       "      <th>y</th>\n",
       "    </tr>\n",
       "    <tr>\n",
       "      <th></th>\n",
       "      <th></th>\n",
       "      <th></th>\n",
       "    </tr>\n",
       "  </thead>\n",
       "  <tbody>\n",
       "    <tr>\n",
       "      <th>0</th>\n",
       "      <td>8.91041</td>\n",
       "      <td>b</td>\n",
       "    </tr>\n",
       "    <tr>\n",
       "      <th>1</th>\n",
       "      <td>83.45194</td>\n",
       "      <td>a</td>\n",
       "    </tr>\n",
       "    <tr>\n",
       "      <th>2</th>\n",
       "      <td>36.21949</td>\n",
       "      <td>c</td>\n",
       "    </tr>\n",
       "    <tr>\n",
       "      <th>3</th>\n",
       "      <td>99.9934</td>\n",
       "      <td>c</td>\n",
       "    </tr>\n",
       "    <tr>\n",
       "      <th>4</th>\n",
       "      <td>38.37986</td>\n",
       "      <td>c</td>\n",
       "    </tr>\n",
       "  </tbody>\n",
       "</table>"
      ],
      "text/plain": [
       "pykx.Table(pykx.q('\n",
       "x        y\n",
       "----------\n",
       "8.91041  b\n",
       "83.45194 a\n",
       "36.21949 c\n",
       "99.9934  c\n",
       "38.37986 c\n",
       "'))"
      ]
     },
     "execution_count": 29,
     "metadata": {},
     "output_type": "execute_result"
    }
   ],
   "source": [
    "# Generate Table: 'x' column contains random floats between 0 and 100, 'y' column contains random choice of 'a', 'b', or 'c'\n",
    "PyKX_Table = kx.Table(data={'x':kx.random.random(5,100.0), 'y':kx.random.random(5,['a','b','c'])})\n",
    "PyKX_Table"
   ]
  },
  {
   "cell_type": "markdown",
   "id": "9d2db26a-628e-4b78-878a-26fba928cf31",
   "metadata": {
    "reveal": "fav61e7ewke",
    "reveal-hidden": true,
    "tags": []
   },
   "source": [
    "##### Exercise 3\n",
    "Create a table with 2 columns; `a` and `b`. \n",
    "\n",
    "+ Column `a` should contain 5 random ints between 10 and 20.\n",
    "+ Column `b` should contain 5 random floats between 0 and 30."
   ]
  },
  {
   "cell_type": "code",
   "execution_count": 30,
   "id": "e896830d-b135-4cba-8f7b-49c4ce6ea396",
   "metadata": {
    "reveal": "fav61e7ewke"
   },
   "outputs": [
    {
     "data": {
      "text/html": [
       "<table border=\"1\" class=\"dataframe\">\n",
       "  <thead>\n",
       "    <tr style=\"text-align: right;\">\n",
       "      <th></th>\n",
       "      <th>a</th>\n",
       "      <th>b</th>\n",
       "    </tr>\n",
       "    <tr>\n",
       "      <th></th>\n",
       "      <th></th>\n",
       "      <th></th>\n",
       "    </tr>\n",
       "  </thead>\n",
       "  <tbody>\n",
       "    <tr>\n",
       "      <th>0</th>\n",
       "      <td>17</td>\n",
       "      <td>24.67537</td>\n",
       "    </tr>\n",
       "    <tr>\n",
       "      <th>1</th>\n",
       "      <td>19</td>\n",
       "      <td>27.26629</td>\n",
       "    </tr>\n",
       "    <tr>\n",
       "      <th>2</th>\n",
       "      <td>10</td>\n",
       "      <td>19.3742</td>\n",
       "    </tr>\n",
       "    <tr>\n",
       "      <th>3</th>\n",
       "      <td>15</td>\n",
       "      <td>0.2688803</td>\n",
       "    </tr>\n",
       "    <tr>\n",
       "      <th>4</th>\n",
       "      <td>13</td>\n",
       "      <td>14.76849</td>\n",
       "    </tr>\n",
       "  </tbody>\n",
       "</table>"
      ],
      "text/plain": [
       "pykx.Table(pykx.q('\n",
       "a  b        \n",
       "------------\n",
       "17 24.67537 \n",
       "19 27.26629 \n",
       "10 19.3742  \n",
       "15 0.2688803\n",
       "13 14.76849 \n",
       "'))"
      ]
     },
     "execution_count": 30,
     "metadata": {},
     "output_type": "execute_result"
    }
   ],
   "source": [
    "kx.Table(data={'a':kx.random.random(5, [10, 11, 12, 13, 14, 15, 16, 17, 18, 19, 20]), 'b':kx.random.random(5, 30.0)})"
   ]
  },
  {
   "cell_type": "markdown",
   "id": "769328f7-9384-450f-9186-92f97b58f17d",
   "metadata": {},
   "source": [
    "### Intro to Indexing and Slicing"
   ]
  },
  {
   "cell_type": "markdown",
   "id": "78b1f39b-8f3a-41f8-9bce-3315eeee23a3",
   "metadata": {},
   "source": [
    "#### Retrieve a single item from a PyKX vector with Indexing"
   ]
  },
  {
   "cell_type": "code",
   "execution_count": 31,
   "id": "1b147b87-4b51-47f0-aec4-d9d773ed9a21",
   "metadata": {},
   "outputs": [
    {
     "name": "stdout",
     "output_type": "stream",
     "text": [
      "1 2 3 4i\n"
     ]
    },
    {
     "data": {
      "text/plain": [
       "pykx.IntAtom(pykx.q('4i'))"
      ]
     },
     "execution_count": 31,
     "metadata": {},
     "output_type": "execute_result"
    }
   ],
   "source": [
    "print(pykx_vector)\n",
    "pykx_vector[3]"
   ]
  },
  {
   "cell_type": "markdown",
   "id": "3d648495-6419-4218-9e25-97c38872d47d",
   "metadata": {},
   "source": [
    "#### Retrieve the last item in the pykx vector"
   ]
  },
  {
   "cell_type": "code",
   "execution_count": 32,
   "id": "80e25c18-6143-4eec-a1fc-fa15b50f21aa",
   "metadata": {},
   "outputs": [
    {
     "data": {
      "text/plain": [
       "pykx.IntAtom(pykx.q('4i'))"
      ]
     },
     "execution_count": 32,
     "metadata": {},
     "output_type": "execute_result"
    }
   ],
   "source": [
    "pykx_vector[-1]"
   ]
  },
  {
   "cell_type": "markdown",
   "id": "d6f67b6b-6efa-482a-aa13-dd198335b15c",
   "metadata": {},
   "source": [
    "#### Retrieve a subsection of elements from a list"
   ]
  },
  {
   "cell_type": "code",
   "execution_count": 33,
   "id": "abb6b474-6a9e-4d5b-90c1-ef157597d5b0",
   "metadata": {},
   "outputs": [
    {
     "data": {
      "text/plain": [
       "pykx.LongVector(pykx.q('46 91 37 68 55'))"
      ]
     },
     "execution_count": 33,
     "metadata": {},
     "output_type": "execute_result"
    }
   ],
   "source": [
    "# Generate list of 10 values between 0 and 100\n",
    "pykx_list = kx.random.random([1,10],100)\n",
    "# Use slicing to retrieve a subsection of elements from the list\n",
    "pykx_list[0][3:8]"
   ]
  },
  {
   "cell_type": "markdown",
   "id": "22f8ff03-d66b-42d1-ad92-c348e664e6e5",
   "metadata": {},
   "source": [
    "#### Retrieve the last n elements from a list"
   ]
  },
  {
   "cell_type": "code",
   "execution_count": 34,
   "id": "ea21fd90-d6d5-4a89-b554-d81b38296c89",
   "metadata": {},
   "outputs": [
    {
     "name": "stdout",
     "output_type": "stream",
     "text": [
      "20 3 43 46 91 37 68 55 6 16\n"
     ]
    },
    {
     "data": {
      "text/plain": [
       "pykx.LongVector(pykx.q('55 6 16'))"
      ]
     },
     "execution_count": 34,
     "metadata": {},
     "output_type": "execute_result"
    }
   ],
   "source": [
    "print(pykx_list[0])\n",
    "pykx_list[0][-3:]"
   ]
  },
  {
   "cell_type": "markdown",
   "id": "24ec54e7-b3b0-4e4b-bea7-f4c7965ac700",
   "metadata": {},
   "source": [
    "#### Retrieve the content of a column in a table"
   ]
  },
  {
   "cell_type": "code",
   "execution_count": 35,
   "id": "a2141830-8f6a-472d-be82-4aba22461c0b",
   "metadata": {},
   "outputs": [
    {
     "name": "stdout",
     "output_type": "stream",
     "text": [
      "x        y\n",
      "----------\n",
      "8.91041  b\n",
      "83.45194 a\n",
      "36.21949 c\n",
      "99.9934  c\n",
      "38.37986 c\n"
     ]
    },
    {
     "data": {
      "text/plain": [
       "pykx.FloatVector(pykx.q('8.91041 83.45194 36.21949 99.9934 38.37986'))"
      ]
     },
     "execution_count": 35,
     "metadata": {},
     "output_type": "execute_result"
    }
   ],
   "source": [
    "print(PyKX_Table)\n",
    "PyKX_Table['x']"
   ]
  },
  {
   "cell_type": "markdown",
   "id": "146dc1e7-90ac-4809-a7b8-152d6e3ba779",
   "metadata": {},
   "source": [
    "## Loading Data from a CSV"
   ]
  },
  {
   "cell_type": "code",
   "execution_count": 36,
   "id": "248288e9-7c61-48df-b9ce-879f3a216b1a",
   "metadata": {},
   "outputs": [
    {
     "name": "stdout",
     "output_type": "stream",
     "text": [
      "(3565390, 12)\n"
     ]
    },
    {
     "data": {
      "text/html": [
       "<div>\n",
       "<style scoped>\n",
       "    .dataframe tbody tr th:only-of-type {\n",
       "        vertical-align: middle;\n",
       "    }\n",
       "\n",
       "    .dataframe tbody tr th {\n",
       "        vertical-align: top;\n",
       "    }\n",
       "\n",
       "    .dataframe thead th {\n",
       "        text-align: right;\n",
       "    }\n",
       "</style>\n",
       "<table border=\"1\" class=\"dataframe\">\n",
       "  <thead>\n",
       "    <tr style=\"text-align: right;\">\n",
       "      <th></th>\n",
       "      <th>timestamp</th>\n",
       "      <th>open</th>\n",
       "      <th>high</th>\n",
       "      <th>low</th>\n",
       "      <th>close</th>\n",
       "      <th>volume</th>\n",
       "      <th>close_time</th>\n",
       "      <th>quote_asset_volume</th>\n",
       "      <th>number_of_trades</th>\n",
       "      <th>taker_buy_base_asset_volume</th>\n",
       "      <th>taker_buy_quote_asset_volume</th>\n",
       "      <th>ignore</th>\n",
       "    </tr>\n",
       "  </thead>\n",
       "  <tbody>\n",
       "    <tr>\n",
       "      <th>0</th>\n",
       "      <td>2017-08-17 04:00:00</td>\n",
       "      <td>4261.48</td>\n",
       "      <td>4261.48</td>\n",
       "      <td>4261.48</td>\n",
       "      <td>4261.48</td>\n",
       "      <td>1.775183</td>\n",
       "      <td>2017-08-17 04:00:59.999</td>\n",
       "      <td>7564.906851</td>\n",
       "      <td>3</td>\n",
       "      <td>0.075183</td>\n",
       "      <td>320.390851</td>\n",
       "      <td>0</td>\n",
       "    </tr>\n",
       "    <tr>\n",
       "      <th>1</th>\n",
       "      <td>2017-08-17 04:01:00</td>\n",
       "      <td>4261.48</td>\n",
       "      <td>4261.48</td>\n",
       "      <td>4261.48</td>\n",
       "      <td>4261.48</td>\n",
       "      <td>0.000000</td>\n",
       "      <td>2017-08-17 04:01:59.999</td>\n",
       "      <td>0.000000</td>\n",
       "      <td>0</td>\n",
       "      <td>0.000000</td>\n",
       "      <td>0.000000</td>\n",
       "      <td>0</td>\n",
       "    </tr>\n",
       "    <tr>\n",
       "      <th>2</th>\n",
       "      <td>2017-08-17 04:02:00</td>\n",
       "      <td>4280.56</td>\n",
       "      <td>4280.56</td>\n",
       "      <td>4280.56</td>\n",
       "      <td>4280.56</td>\n",
       "      <td>0.261074</td>\n",
       "      <td>2017-08-17 04:02:59.999</td>\n",
       "      <td>1117.542921</td>\n",
       "      <td>2</td>\n",
       "      <td>0.261074</td>\n",
       "      <td>1117.542921</td>\n",
       "      <td>0</td>\n",
       "    </tr>\n",
       "    <tr>\n",
       "      <th>3</th>\n",
       "      <td>2017-08-17 04:03:00</td>\n",
       "      <td>4261.48</td>\n",
       "      <td>4261.48</td>\n",
       "      <td>4261.48</td>\n",
       "      <td>4261.48</td>\n",
       "      <td>0.012008</td>\n",
       "      <td>2017-08-17 04:03:59.999</td>\n",
       "      <td>51.171852</td>\n",
       "      <td>3</td>\n",
       "      <td>0.012008</td>\n",
       "      <td>51.171852</td>\n",
       "      <td>0</td>\n",
       "    </tr>\n",
       "    <tr>\n",
       "      <th>4</th>\n",
       "      <td>2017-08-17 04:04:00</td>\n",
       "      <td>4261.48</td>\n",
       "      <td>4261.48</td>\n",
       "      <td>4261.48</td>\n",
       "      <td>4261.48</td>\n",
       "      <td>0.140796</td>\n",
       "      <td>2017-08-17 04:04:59.999</td>\n",
       "      <td>599.999338</td>\n",
       "      <td>1</td>\n",
       "      <td>0.140796</td>\n",
       "      <td>599.999338</td>\n",
       "      <td>0</td>\n",
       "    </tr>\n",
       "  </tbody>\n",
       "</table>\n",
       "</div>"
      ],
      "text/plain": [
       "             timestamp     open     high      low    close    volume  \\\n",
       "0  2017-08-17 04:00:00  4261.48  4261.48  4261.48  4261.48  1.775183   \n",
       "1  2017-08-17 04:01:00  4261.48  4261.48  4261.48  4261.48  0.000000   \n",
       "2  2017-08-17 04:02:00  4280.56  4280.56  4280.56  4280.56  0.261074   \n",
       "3  2017-08-17 04:03:00  4261.48  4261.48  4261.48  4261.48  0.012008   \n",
       "4  2017-08-17 04:04:00  4261.48  4261.48  4261.48  4261.48  0.140796   \n",
       "\n",
       "                close_time  quote_asset_volume  number_of_trades  \\\n",
       "0  2017-08-17 04:00:59.999         7564.906851                 3   \n",
       "1  2017-08-17 04:01:59.999            0.000000                 0   \n",
       "2  2017-08-17 04:02:59.999         1117.542921                 2   \n",
       "3  2017-08-17 04:03:59.999           51.171852                 3   \n",
       "4  2017-08-17 04:04:59.999          599.999338                 1   \n",
       "\n",
       "   taker_buy_base_asset_volume  taker_buy_quote_asset_volume  ignore  \n",
       "0                     0.075183                    320.390851       0  \n",
       "1                     0.000000                      0.000000       0  \n",
       "2                     0.261074                   1117.542921       0  \n",
       "3                     0.012008                     51.171852       0  \n",
       "4                     0.140796                    599.999338       0  "
      ]
     },
     "execution_count": 36,
     "metadata": {},
     "output_type": "execute_result"
    }
   ],
   "source": [
    "# Using Pandas\n",
    "btc_df = pd.read_csv(\"data/BTCUSDT.csv\")\n",
    "print(btc_df.shape)\n",
    "btc_df.head()"
   ]
  },
  {
   "cell_type": "code",
   "execution_count": 37,
   "id": "9fa52a45-d52a-4dce-a148-1df4a8d11c51",
   "metadata": {},
   "outputs": [
    {
     "data": {
      "text/html": [
       "<table border=\"1\" class=\"dataframe\">\n",
       "  <thead>\n",
       "    <tr style=\"text-align: right;\">\n",
       "      <th></th>\n",
       "      <th>timestamp</th>\n",
       "      <th>open</th>\n",
       "      <th>high</th>\n",
       "      <th>low</th>\n",
       "      <th>close</th>\n",
       "      <th>volume</th>\n",
       "      <th>close_time</th>\n",
       "      <th>quote_asset_volume</th>\n",
       "      <th>number_of_trades</th>\n",
       "      <th>taker_buy_base_asset_volume</th>\n",
       "      <th>taker_buy_quote_asset_volume</th>\n",
       "      <th>ignore</th>\n",
       "    </tr>\n",
       "    <tr>\n",
       "      <th></th>\n",
       "      <th></th>\n",
       "      <th></th>\n",
       "      <th></th>\n",
       "      <th></th>\n",
       "      <th></th>\n",
       "      <th></th>\n",
       "      <th></th>\n",
       "      <th></th>\n",
       "      <th></th>\n",
       "      <th></th>\n",
       "      <th></th>\n",
       "      <th></th>\n",
       "    </tr>\n",
       "  </thead>\n",
       "  <tbody>\n",
       "    <tr>\n",
       "      <th>0</th>\n",
       "      <td>2017.08.17D04:00:00.000000000</td>\n",
       "      <td>4261.48e</td>\n",
       "      <td>4261.48e</td>\n",
       "      <td>4261.48e</td>\n",
       "      <td>4261.48e</td>\n",
       "      <td>1.775183</td>\n",
       "      <td>2017.08.17D04:00:59.999000000</td>\n",
       "      <td>7564.907</td>\n",
       "      <td>3h</td>\n",
       "      <td>0.075183</td>\n",
       "      <td>320.3909</td>\n",
       "      <td>0b</td>\n",
       "    </tr>\n",
       "    <tr>\n",
       "      <th>1</th>\n",
       "      <td>2017.08.17D04:01:00.000000000</td>\n",
       "      <td>4261.48e</td>\n",
       "      <td>4261.48e</td>\n",
       "      <td>4261.48e</td>\n",
       "      <td>4261.48e</td>\n",
       "      <td>0f</td>\n",
       "      <td>2017.08.17D04:01:59.999000000</td>\n",
       "      <td>0f</td>\n",
       "      <td>0h</td>\n",
       "      <td>0f</td>\n",
       "      <td>0f</td>\n",
       "      <td>0b</td>\n",
       "    </tr>\n",
       "    <tr>\n",
       "      <th>2</th>\n",
       "      <td>2017.08.17D04:02:00.000000000</td>\n",
       "      <td>4280.56e</td>\n",
       "      <td>4280.56e</td>\n",
       "      <td>4280.56e</td>\n",
       "      <td>4280.56e</td>\n",
       "      <td>0.261074</td>\n",
       "      <td>2017.08.17D04:02:59.999000000</td>\n",
       "      <td>1117.543</td>\n",
       "      <td>2h</td>\n",
       "      <td>0.261074</td>\n",
       "      <td>1117.543</td>\n",
       "      <td>0b</td>\n",
       "    </tr>\n",
       "    <tr>\n",
       "      <th>3</th>\n",
       "      <td>2017.08.17D04:03:00.000000000</td>\n",
       "      <td>4261.48e</td>\n",
       "      <td>4261.48e</td>\n",
       "      <td>4261.48e</td>\n",
       "      <td>4261.48e</td>\n",
       "      <td>0.012008</td>\n",
       "      <td>2017.08.17D04:03:59.999000000</td>\n",
       "      <td>51.17185</td>\n",
       "      <td>3h</td>\n",
       "      <td>0.012008</td>\n",
       "      <td>51.17185</td>\n",
       "      <td>0b</td>\n",
       "    </tr>\n",
       "    <tr>\n",
       "      <th>4</th>\n",
       "      <td>2017.08.17D04:04:00.000000000</td>\n",
       "      <td>4261.48e</td>\n",
       "      <td>4261.48e</td>\n",
       "      <td>4261.48e</td>\n",
       "      <td>4261.48e</td>\n",
       "      <td>0.140796</td>\n",
       "      <td>2017.08.17D04:04:59.999000000</td>\n",
       "      <td>599.9993</td>\n",
       "      <td>1h</td>\n",
       "      <td>0.140796</td>\n",
       "      <td>599.9993</td>\n",
       "      <td>0b</td>\n",
       "    </tr>\n",
       "  </tbody>\n",
       "</table>"
      ],
      "text/plain": [
       "pykx.Table(pykx.q('\n",
       "timestamp                     open    high    low     close   volume   close_time                ..\n",
       "-------------------------------------------------------------------------------------------------..\n",
       "2017.08.17D04:00:00.000000000 4261.48 4261.48 4261.48 4261.48 1.775183 2017.08.17D04:00:59.999000..\n",
       "2017.08.17D04:01:00.000000000 4261.48 4261.48 4261.48 4261.48 0        2017.08.17D04:01:59.999000..\n",
       "2017.08.17D04:02:00.000000000 4280.56 4280.56 4280.56 4280.56 0.261074 2017.08.17D04:02:59.999000..\n",
       "2017.08.17D04:03:00.000000000 4261.48 4261.48 4261.48 4261.48 0.012008 2017.08.17D04:03:59.999000..\n",
       "2017.08.17D04:04:00.000000000 4261.48 4261.48 4261.48 4261.48 0.140796 2017.08.17D04:04:59.999000..\n",
       "'))"
      ]
     },
     "execution_count": 37,
     "metadata": {},
     "output_type": "execute_result"
    }
   ],
   "source": [
    "# Using PyKX\n",
    "tab_BTC = kx.q.read.csv('data/BTCUSDT.csv')\n",
    "tab_BTC.head()"
   ]
  },
  {
   "cell_type": "markdown",
   "id": "7a319066-e2f1-4dd4-93d7-f9968edfc779",
   "metadata": {},
   "source": [
    "## Writing Data to a CSV"
   ]
  },
  {
   "cell_type": "code",
   "execution_count": 38,
   "id": "8891b745-b5a6-4050-85b7-c7c3b8f88128",
   "metadata": {
    "tags": []
   },
   "outputs": [
    {
     "data": {
      "text/plain": [
       "PosixPath('data/write_test.csv')"
      ]
     },
     "execution_count": 38,
     "metadata": {},
     "output_type": "execute_result"
    }
   ],
   "source": [
    "kx.q.write.csv('data/write_test.csv', PyKX_Table, delimiter=',')"
   ]
  }
 ],
 "metadata": {
  "kernelspec": {
   "display_name": "Python 3 (ipykernel)",
   "language": "python",
   "name": "python3"
  },
  "language_info": {
   "codemirror_mode": {
    "name": "ipython",
    "version": 3
   },
   "file_extension": ".py",
   "mimetype": "text/x-python",
   "name": "python",
   "nbconvert_exporter": "python",
   "pygments_lexer": "ipython3",
   "version": "3.10.12"
  }
 },
 "nbformat": 4,
 "nbformat_minor": 5
}
