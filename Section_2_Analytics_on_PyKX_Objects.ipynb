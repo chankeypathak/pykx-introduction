{
 "cells": [
  {
   "cell_type": "code",
   "execution_count": 1,
   "id": "d53baf31-250f-46f6-96be-5aa6f522151a",
   "metadata": {},
   "outputs": [],
   "source": [
    "# Setup\n",
    "import numpy as np\n",
    "import pandas as pd\n",
    "import pyarrow as pa\n",
    "\n",
    "import pykx as kx\n",
    "kx.q.system.console_size = [15, 100]"
   ]
  },
  {
   "cell_type": "markdown",
   "id": "b1c26b1d-fd8c-4608-a3e0-f48cb1b67012",
   "metadata": {
    "tags": []
   },
   "source": [
    "# Section #2: Built-In Methods for Analytics on PyKX Objects"
   ]
  },
  {
   "cell_type": "markdown",
   "id": "60aa8f49-8fbf-4905-aa19-ffc7d3e0b40f",
   "metadata": {},
   "source": [
    "## Interacting with PyKX Objects: Indexing & Slicing"
   ]
  },
  {
   "cell_type": "code",
   "execution_count": 2,
   "id": "6fe98100-f2da-4c9c-8016-6257351e91a0",
   "metadata": {},
   "outputs": [
    {
     "data": {
      "text/html": [
       "<table border=\"1\" class=\"dataframe\">\n",
       "  <thead>\n",
       "    <tr style=\"text-align: right;\">\n",
       "      <th></th>\n",
       "      <th>timestamp</th>\n",
       "      <th>open</th>\n",
       "      <th>high</th>\n",
       "      <th>low</th>\n",
       "      <th>close</th>\n",
       "      <th>volume</th>\n",
       "      <th>close_time</th>\n",
       "      <th>quote_asset_volume</th>\n",
       "      <th>number_of_trades</th>\n",
       "      <th>taker_buy_base_asset_volume</th>\n",
       "      <th>taker_buy_quote_asset_volume</th>\n",
       "      <th>ignore</th>\n",
       "    </tr>\n",
       "    <tr>\n",
       "      <th></th>\n",
       "      <th></th>\n",
       "      <th></th>\n",
       "      <th></th>\n",
       "      <th></th>\n",
       "      <th></th>\n",
       "      <th></th>\n",
       "      <th></th>\n",
       "      <th></th>\n",
       "      <th></th>\n",
       "      <th></th>\n",
       "      <th></th>\n",
       "      <th></th>\n",
       "    </tr>\n",
       "  </thead>\n",
       "  <tbody>\n",
       "    <tr>\n",
       "      <th>0</th>\n",
       "      <td>2017.08.17D04:00:00.000000000</td>\n",
       "      <td>4261.48e</td>\n",
       "      <td>4261.48e</td>\n",
       "      <td>4261.48e</td>\n",
       "      <td>4261.48e</td>\n",
       "      <td>1.775183</td>\n",
       "      <td>2017.08.17D04:00:59.999000000</td>\n",
       "      <td>7564.907</td>\n",
       "      <td>3h</td>\n",
       "      <td>0.075183</td>\n",
       "      <td>320.3909</td>\n",
       "      <td>0b</td>\n",
       "    </tr>\n",
       "    <tr>\n",
       "      <th>1</th>\n",
       "      <td>2017.08.17D04:01:00.000000000</td>\n",
       "      <td>4261.48e</td>\n",
       "      <td>4261.48e</td>\n",
       "      <td>4261.48e</td>\n",
       "      <td>4261.48e</td>\n",
       "      <td>0f</td>\n",
       "      <td>2017.08.17D04:01:59.999000000</td>\n",
       "      <td>0f</td>\n",
       "      <td>0h</td>\n",
       "      <td>0f</td>\n",
       "      <td>0f</td>\n",
       "      <td>0b</td>\n",
       "    </tr>\n",
       "    <tr>\n",
       "      <th>2</th>\n",
       "      <td>2017.08.17D04:02:00.000000000</td>\n",
       "      <td>4280.56e</td>\n",
       "      <td>4280.56e</td>\n",
       "      <td>4280.56e</td>\n",
       "      <td>4280.56e</td>\n",
       "      <td>0.261074</td>\n",
       "      <td>2017.08.17D04:02:59.999000000</td>\n",
       "      <td>1117.543</td>\n",
       "      <td>2h</td>\n",
       "      <td>0.261074</td>\n",
       "      <td>1117.543</td>\n",
       "      <td>0b</td>\n",
       "    </tr>\n",
       "    <tr>\n",
       "      <th>3</th>\n",
       "      <td>2017.08.17D04:03:00.000000000</td>\n",
       "      <td>4261.48e</td>\n",
       "      <td>4261.48e</td>\n",
       "      <td>4261.48e</td>\n",
       "      <td>4261.48e</td>\n",
       "      <td>0.012008</td>\n",
       "      <td>2017.08.17D04:03:59.999000000</td>\n",
       "      <td>51.17185</td>\n",
       "      <td>3h</td>\n",
       "      <td>0.012008</td>\n",
       "      <td>51.17185</td>\n",
       "      <td>0b</td>\n",
       "    </tr>\n",
       "    <tr>\n",
       "      <th>4</th>\n",
       "      <td>2017.08.17D04:04:00.000000000</td>\n",
       "      <td>4261.48e</td>\n",
       "      <td>4261.48e</td>\n",
       "      <td>4261.48e</td>\n",
       "      <td>4261.48e</td>\n",
       "      <td>0.140796</td>\n",
       "      <td>2017.08.17D04:04:59.999000000</td>\n",
       "      <td>599.9993</td>\n",
       "      <td>1h</td>\n",
       "      <td>0.140796</td>\n",
       "      <td>599.9993</td>\n",
       "      <td>0b</td>\n",
       "    </tr>\n",
       "  </tbody>\n",
       "</table>"
      ],
      "text/plain": [
       "pykx.Table(pykx.q('\n",
       "timestamp                     open    high    low     close   volume   close_time                ..\n",
       "-------------------------------------------------------------------------------------------------..\n",
       "2017.08.17D04:00:00.000000000 4261.48 4261.48 4261.48 4261.48 1.775183 2017.08.17D04:00:59.999000..\n",
       "2017.08.17D04:01:00.000000000 4261.48 4261.48 4261.48 4261.48 0        2017.08.17D04:01:59.999000..\n",
       "2017.08.17D04:02:00.000000000 4280.56 4280.56 4280.56 4280.56 0.261074 2017.08.17D04:02:59.999000..\n",
       "2017.08.17D04:03:00.000000000 4261.48 4261.48 4261.48 4261.48 0.012008 2017.08.17D04:03:59.999000..\n",
       "2017.08.17D04:04:00.000000000 4261.48 4261.48 4261.48 4261.48 0.140796 2017.08.17D04:04:59.999000..\n",
       "'))"
      ]
     },
     "execution_count": 2,
     "metadata": {},
     "output_type": "execute_result"
    }
   ],
   "source": [
    "# Using PyKX to read in a BTC table\n",
    "# This datasets holds bitcoin trading data for every minute from 2017.08.17 to early 2024\n",
    "tab_BTC = kx.q.read.csv('data/BTCUSDT.csv')\n",
    "tab_BTC.head()"
   ]
  },
  {
   "cell_type": "markdown",
   "id": "bbb00414-2a65-408e-97f4-6a87f29d8a24",
   "metadata": {},
   "source": [
    "#### Use indexing to identify the number of trades for the first transaction:"
   ]
  },
  {
   "cell_type": "code",
   "execution_count": 3,
   "id": "bf6ef087-216b-4926-b3ad-f04e14443ae3",
   "metadata": {},
   "outputs": [
    {
     "data": {
      "text/plain": [
       "pykx.ShortAtom(pykx.q('3h'))"
      ]
     },
     "execution_count": 3,
     "metadata": {},
     "output_type": "execute_result"
    }
   ],
   "source": [
    "tab_BTC['number_of_trades'][0]"
   ]
  },
  {
   "cell_type": "markdown",
   "id": "76791a83-a0eb-48e1-8fad-c0df54e75b82",
   "metadata": {
    "reveal": "marhxe6307s",
    "reveal-hidden": true,
    "tags": []
   },
   "source": [
    "##### Exercise 4\n",
    "+ Using the `tab_BTC` table, return the close price for the 100th transaction"
   ]
  },
  {
   "cell_type": "code",
   "execution_count": 4,
   "id": "19e91e01-4bbd-444c-b506-f6201e822f24",
   "metadata": {
    "reveal": "marhxe6307s"
   },
   "outputs": [
    {
     "data": {
      "text/plain": [
       "pykx.RealAtom(pykx.q('4291.37e'))"
      ]
     },
     "execution_count": 4,
     "metadata": {},
     "output_type": "execute_result"
    }
   ],
   "source": [
    "tab_BTC['close'][99]"
   ]
  },
  {
   "cell_type": "markdown",
   "id": "b9ecec9e-9957-42a9-a00d-77083bf01fbd",
   "metadata": {},
   "source": [
    "#### Use Slicing to get the first 24 hours (1440 minutes) of the dataset:"
   ]
  },
  {
   "cell_type": "code",
   "execution_count": 5,
   "id": "1984f337-b387-4dd8-a8d5-de48746e509d",
   "metadata": {},
   "outputs": [
    {
     "data": {
      "text/plain": [
       "pykx.RealVector(pykx.q('4261.48 4261.48 4280.56 4261.48 4261.48 4261.48 4261.48 4261.48 4261.48 4261.48 4261.48 4261.48 4..'))"
      ]
     },
     "execution_count": 5,
     "metadata": {},
     "output_type": "execute_result"
    }
   ],
   "source": [
    "first_day_prices_BTC = tab_BTC['close'][:1440]\n",
    "first_day_prices_BTC"
   ]
  },
  {
   "cell_type": "markdown",
   "id": "e3230b57-0d53-4f37-9e7e-4d2939fc1759",
   "metadata": {
    "reveal": "6pbeo4vpptl",
    "reveal-hidden": true,
    "tags": []
   },
   "source": [
    "##### Exercise 5\n",
    "+ Create a table called `third_day_prices_BTC` and use slicing to get the first 72 hours of the dataset."
   ]
  },
  {
   "cell_type": "code",
   "execution_count": 6,
   "id": "c57f9553-5753-4c63-b342-347b8ebf0489",
   "metadata": {
    "reveal": "6pbeo4vpptl"
   },
   "outputs": [
    {
     "data": {
      "text/plain": [
       "pykx.RealVector(pykx.q('4261.48 4261.48 4280.56 4261.48 4261.48 4261.48 4261.48 4261.48 4261.48 4261.48 4261.48 4261.48 4..'))"
      ]
     },
     "execution_count": 6,
     "metadata": {},
     "output_type": "execute_result"
    }
   ],
   "source": [
    "third_day_prices_BTC = tab_BTC['close'][:4320]\n",
    "third_day_prices_BTC"
   ]
  },
  {
   "cell_type": "markdown",
   "id": "d82d6b81-a1c0-4f8d-931c-45c82687cb13",
   "metadata": {},
   "source": [
    "## Data Manipulation Operations"
   ]
  },
  {
   "cell_type": "markdown",
   "id": "d9cb9a3b-ec26-4972-b463-7e9cdfc1f69a",
   "metadata": {},
   "source": [
    "#### Using Pandas-like API"
   ]
  },
  {
   "cell_type": "code",
   "execution_count": 7,
   "id": "52834e18-0bdc-40d3-9d8c-e902042602b8",
   "metadata": {},
   "outputs": [
    {
     "data": {
      "text/plain": [
       "pykx.FloatAtom(pykx.q('4343.483'))"
      ]
     },
     "execution_count": 7,
     "metadata": {},
     "output_type": "execute_result"
    }
   ],
   "source": [
    "first_day_prices_BTC.mean()"
   ]
  },
  {
   "cell_type": "code",
   "execution_count": 8,
   "id": "60d2f345-6de6-4d6d-8555-bff478c57420",
   "metadata": {},
   "outputs": [
    {
     "data": {
      "text/plain": [
       "pykx.RealAtom(pykx.q('4142.67e'))"
      ]
     },
     "execution_count": 8,
     "metadata": {},
     "output_type": "execute_result"
    }
   ],
   "source": [
    "first_day_prices_BTC.min()"
   ]
  },
  {
   "cell_type": "code",
   "execution_count": 9,
   "id": "974fd8e0-edd2-4898-8c55-ccda3358ce0e",
   "metadata": {},
   "outputs": [
    {
     "data": {
      "text/plain": [
       "pykx.RealAtom(pykx.q('4485.39e'))"
      ]
     },
     "execution_count": 9,
     "metadata": {},
     "output_type": "execute_result"
    }
   ],
   "source": [
    "first_day_prices_BTC.max()"
   ]
  },
  {
   "cell_type": "code",
   "execution_count": 10,
   "id": "90d6bbbf-ed06-44c0-bede-670632d21c02",
   "metadata": {},
   "outputs": [
    {
     "data": {
      "text/plain": [
       "pykx.FloatAtom(pykx.q('4328.67'))"
      ]
     },
     "execution_count": 10,
     "metadata": {},
     "output_type": "execute_result"
    }
   ],
   "source": [
    "first_day_prices_BTC.median()"
   ]
  },
  {
   "cell_type": "markdown",
   "id": "88730418-e30a-443a-92e5-7dd3ce224150",
   "metadata": {
    "reveal": "9excgwwbyso",
    "reveal-hidden": true,
    "tags": []
   },
   "source": [
    "##### Exercise 6\n",
    "\n",
    "+ Using `third_day_prices_BTC`, calculate the sum of the prices on the third day."
   ]
  },
  {
   "cell_type": "code",
   "execution_count": 11,
   "id": "756bfb00-6f86-4ff0-81b3-029e2115ee89",
   "metadata": {
    "reveal": "9excgwwbyso"
   },
   "outputs": [
    {
     "data": {
      "text/plain": [
       "pykx.RealAtom(pykx.q('1.816895e+07e'))"
      ]
     },
     "execution_count": 11,
     "metadata": {},
     "output_type": "execute_result"
    }
   ],
   "source": [
    "third_day_prices_BTC.sum()"
   ]
  },
  {
   "cell_type": "markdown",
   "id": "037defdb-183b-4233-b3a9-a4db8e15b7fc",
   "metadata": {},
   "source": [
    "## Custom Functions with apply()"
   ]
  },
  {
   "cell_type": "code",
   "execution_count": 12,
   "id": "795b5868-bb65-4642-95e3-255f5dddd7f0",
   "metadata": {},
   "outputs": [],
   "source": [
    "# Custom function for custom analytics\n",
    "def custom_function(x,y):\n",
    "    return x*y"
   ]
  },
  {
   "cell_type": "code",
   "execution_count": 13,
   "id": "0947e965-d3de-4a08-a0d3-73f23175d469",
   "metadata": {},
   "outputs": [
    {
     "data": {
      "text/plain": [
       "pykx.RealVector(pykx.q('21307.4 21307.4 21402.8 21307.4 21307.4 21307.4 21307.4 21307.4 21307.4 21307.4 21307.4 21307.4 2..'))"
      ]
     },
     "execution_count": 13,
     "metadata": {},
     "output_type": "execute_result"
    }
   ],
   "source": [
    "first_day_prices_BTC.apply(custom_function,5)"
   ]
  },
  {
   "cell_type": "markdown",
   "id": "7bcbf8ac-aa33-425e-a207-76fc3682a8ce",
   "metadata": {},
   "source": [
    "## PyKX Native Functions\n",
    "\n",
    "Run faster and more efficiently than Numpy or Pandas operations.\n",
    "See Documentation: https://code.kx.com/pykx/2.5/api/pykx-execution/q.html"
   ]
  },
  {
   "cell_type": "code",
   "execution_count": 14,
   "id": "cc6d2803-5547-4c63-a4a5-13e918db1d40",
   "metadata": {},
   "outputs": [
    {
     "data": {
      "text/plain": [
       "pykx.RealAtom(pykx.q('4485.39e'))"
      ]
     },
     "execution_count": 14,
     "metadata": {},
     "output_type": "execute_result"
    }
   ],
   "source": [
    "# Max\n",
    "kx.q.max(first_day_prices_BTC)"
   ]
  },
  {
   "cell_type": "code",
   "execution_count": 15,
   "id": "e7aa2122-83b0-4774-bfd3-e1025c45d2c5",
   "metadata": {},
   "outputs": [
    {
     "data": {
      "text/plain": [
       "pykx.RealAtom(pykx.q('4142.67e'))"
      ]
     },
     "execution_count": 15,
     "metadata": {},
     "output_type": "execute_result"
    }
   ],
   "source": [
    "# Min\n",
    "kx.q.min(first_day_prices_BTC)"
   ]
  },
  {
   "cell_type": "code",
   "execution_count": 16,
   "id": "df8da974-51b7-4332-ae50-c31ccc86a75e",
   "metadata": {},
   "outputs": [
    {
     "data": {
      "text/plain": [
       "pykx.FloatAtom(pykx.q('4343.483'))"
      ]
     },
     "execution_count": 16,
     "metadata": {},
     "output_type": "execute_result"
    }
   ],
   "source": [
    "# Average\n",
    "kx.q.avg(first_day_prices_BTC)"
   ]
  },
  {
   "cell_type": "code",
   "execution_count": 17,
   "id": "48dcb056-5d26-4612-9f95-8b2cd55990ea",
   "metadata": {},
   "outputs": [
    {
     "data": {
      "text/plain": [
       "pykx.FloatAtom(pykx.q('4328.67'))"
      ]
     },
     "execution_count": 17,
     "metadata": {},
     "output_type": "execute_result"
    }
   ],
   "source": [
    "# Median\n",
    "kx.q.med(first_day_prices_BTC)"
   ]
  },
  {
   "cell_type": "code",
   "execution_count": 18,
   "id": "1283747a-a440-433b-ad14-eb01f7b244a4",
   "metadata": {},
   "outputs": [
    {
     "data": {
      "text/plain": [
       "pykx.LongAtom(pykx.q('1440'))"
      ]
     },
     "execution_count": 18,
     "metadata": {},
     "output_type": "execute_result"
    }
   ],
   "source": [
    "# Count\n",
    "kx.q.count(first_day_prices_BTC)"
   ]
  },
  {
   "cell_type": "code",
   "execution_count": 19,
   "id": "bc11121f-e542-46a8-afc7-a93d8c2a0ded",
   "metadata": {},
   "outputs": [
    {
     "data": {
      "text/plain": [
       "pykx.RealVector(pykx.q('`s#4142.67 4164.28 4172.81 4196.73 4196.73 4196.73 4200.74 4202.73 4202.73 4202.75 4202.75 4208.1..'))"
      ]
     },
     "execution_count": 19,
     "metadata": {},
     "output_type": "execute_result"
    }
   ],
   "source": [
    "# Sorting\n",
    "kx.q.asc(first_day_prices_BTC)"
   ]
  },
  {
   "cell_type": "markdown",
   "id": "82eac553-c2c8-4513-9300-3693e661060f",
   "metadata": {
    "reveal": "nkw3enzqdy8",
    "reveal-hidden": true,
    "tags": []
   },
   "source": [
    "##### Exercise 7\n",
    "+ Sort `first_day_prices_BTC` in descending order"
   ]
  },
  {
   "cell_type": "code",
   "execution_count": 20,
   "id": "5dd0b1e4-d18f-44af-bd59-cf832e6a07b7",
   "metadata": {
    "reveal": "nkw3enzqdy8"
   },
   "outputs": [
    {
     "data": {
      "text/plain": [
       "pykx.RealVector(pykx.q('4485.39 4485.39 4485.39 4485.39 4485.39 4485.39 4485.39 4485.39 4485.39 4485.39 4485.39 4485.39 4..'))"
      ]
     },
     "execution_count": 20,
     "metadata": {},
     "output_type": "execute_result"
    }
   ],
   "source": [
    "kx.q.desc(first_day_prices_BTC)"
   ]
  },
  {
   "cell_type": "markdown",
   "id": "67cb2895-3486-4438-a770-41a0ee56886d",
   "metadata": {},
   "source": [
    "### Analytics Between Datasets"
   ]
  },
  {
   "cell_type": "markdown",
   "id": "49af84e1-b5ab-4d41-9fd7-e12cad644cbf",
   "metadata": {},
   "source": [
    "#### Let's load another CSV containing data on ETH to do analytics across datasets:"
   ]
  },
  {
   "cell_type": "code",
   "execution_count": 21,
   "id": "33daffb4-4928-42b4-8387-a64dfd7890f5",
   "metadata": {},
   "outputs": [
    {
     "name": "stdout",
     "output_type": "stream",
     "text": [
      "(3565390, 12)\n"
     ]
    },
    {
     "data": {
      "text/html": [
       "<div>\n",
       "<style scoped>\n",
       "    .dataframe tbody tr th:only-of-type {\n",
       "        vertical-align: middle;\n",
       "    }\n",
       "\n",
       "    .dataframe tbody tr th {\n",
       "        vertical-align: top;\n",
       "    }\n",
       "\n",
       "    .dataframe thead th {\n",
       "        text-align: right;\n",
       "    }\n",
       "</style>\n",
       "<table border=\"1\" class=\"dataframe\">\n",
       "  <thead>\n",
       "    <tr style=\"text-align: right;\">\n",
       "      <th></th>\n",
       "      <th>timestamp</th>\n",
       "      <th>open</th>\n",
       "      <th>high</th>\n",
       "      <th>low</th>\n",
       "      <th>close</th>\n",
       "      <th>volume</th>\n",
       "      <th>close_time</th>\n",
       "      <th>quote_asset_volume</th>\n",
       "      <th>number_of_trades</th>\n",
       "      <th>taker_buy_base_asset_volume</th>\n",
       "      <th>taker_buy_quote_asset_volume</th>\n",
       "      <th>ignore</th>\n",
       "    </tr>\n",
       "  </thead>\n",
       "  <tbody>\n",
       "    <tr>\n",
       "      <th>0</th>\n",
       "      <td>2017-08-17 04:00:00</td>\n",
       "      <td>301.13</td>\n",
       "      <td>301.13</td>\n",
       "      <td>301.13</td>\n",
       "      <td>301.13</td>\n",
       "      <td>0.42643</td>\n",
       "      <td>2017-08-17 04:00:59.999</td>\n",
       "      <td>128.410866</td>\n",
       "      <td>2</td>\n",
       "      <td>0.42643</td>\n",
       "      <td>128.410866</td>\n",
       "      <td>0</td>\n",
       "    </tr>\n",
       "    <tr>\n",
       "      <th>1</th>\n",
       "      <td>2017-08-17 04:01:00</td>\n",
       "      <td>301.13</td>\n",
       "      <td>301.13</td>\n",
       "      <td>301.13</td>\n",
       "      <td>301.13</td>\n",
       "      <td>2.75787</td>\n",
       "      <td>2017-08-17 04:01:59.999</td>\n",
       "      <td>830.477393</td>\n",
       "      <td>4</td>\n",
       "      <td>2.75787</td>\n",
       "      <td>830.477393</td>\n",
       "      <td>0</td>\n",
       "    </tr>\n",
       "    <tr>\n",
       "      <th>2</th>\n",
       "      <td>2017-08-17 04:02:00</td>\n",
       "      <td>300.00</td>\n",
       "      <td>300.00</td>\n",
       "      <td>300.00</td>\n",
       "      <td>300.00</td>\n",
       "      <td>0.09930</td>\n",
       "      <td>2017-08-17 04:02:59.999</td>\n",
       "      <td>29.790000</td>\n",
       "      <td>2</td>\n",
       "      <td>0.09930</td>\n",
       "      <td>29.790000</td>\n",
       "      <td>0</td>\n",
       "    </tr>\n",
       "    <tr>\n",
       "      <th>3</th>\n",
       "      <td>2017-08-17 04:03:00</td>\n",
       "      <td>300.00</td>\n",
       "      <td>300.00</td>\n",
       "      <td>300.00</td>\n",
       "      <td>300.00</td>\n",
       "      <td>0.31389</td>\n",
       "      <td>2017-08-17 04:03:59.999</td>\n",
       "      <td>94.167000</td>\n",
       "      <td>3</td>\n",
       "      <td>0.00000</td>\n",
       "      <td>0.000000</td>\n",
       "      <td>0</td>\n",
       "    </tr>\n",
       "    <tr>\n",
       "      <th>4</th>\n",
       "      <td>2017-08-17 04:04:00</td>\n",
       "      <td>301.13</td>\n",
       "      <td>301.13</td>\n",
       "      <td>301.13</td>\n",
       "      <td>301.13</td>\n",
       "      <td>0.23202</td>\n",
       "      <td>2017-08-17 04:04:59.999</td>\n",
       "      <td>69.868183</td>\n",
       "      <td>1</td>\n",
       "      <td>0.23202</td>\n",
       "      <td>69.868183</td>\n",
       "      <td>0</td>\n",
       "    </tr>\n",
       "  </tbody>\n",
       "</table>\n",
       "</div>"
      ],
      "text/plain": [
       "             timestamp    open    high     low   close   volume  \\\n",
       "0  2017-08-17 04:00:00  301.13  301.13  301.13  301.13  0.42643   \n",
       "1  2017-08-17 04:01:00  301.13  301.13  301.13  301.13  2.75787   \n",
       "2  2017-08-17 04:02:00  300.00  300.00  300.00  300.00  0.09930   \n",
       "3  2017-08-17 04:03:00  300.00  300.00  300.00  300.00  0.31389   \n",
       "4  2017-08-17 04:04:00  301.13  301.13  301.13  301.13  0.23202   \n",
       "\n",
       "                close_time  quote_asset_volume  number_of_trades  \\\n",
       "0  2017-08-17 04:00:59.999          128.410866                 2   \n",
       "1  2017-08-17 04:01:59.999          830.477393                 4   \n",
       "2  2017-08-17 04:02:59.999           29.790000                 2   \n",
       "3  2017-08-17 04:03:59.999           94.167000                 3   \n",
       "4  2017-08-17 04:04:59.999           69.868183                 1   \n",
       "\n",
       "   taker_buy_base_asset_volume  taker_buy_quote_asset_volume  ignore  \n",
       "0                      0.42643                    128.410866       0  \n",
       "1                      2.75787                    830.477393       0  \n",
       "2                      0.09930                     29.790000       0  \n",
       "3                      0.00000                      0.000000       0  \n",
       "4                      0.23202                     69.868183       0  "
      ]
     },
     "execution_count": 21,
     "metadata": {},
     "output_type": "execute_result"
    }
   ],
   "source": [
    "# Using Pandas\n",
    "btc_df = pd.read_csv(\"data/BTCUSDT.csv\")\n",
    "eth_df = pd.read_csv(\"data/ETHUSDT.csv\")\n",
    "print(eth_df.shape)\n",
    "eth_df.head()"
   ]
  },
  {
   "cell_type": "code",
   "execution_count": 22,
   "id": "13356f4d-3b23-4d66-b87a-b34acd9ae436",
   "metadata": {
    "tags": []
   },
   "outputs": [
    {
     "data": {
      "text/html": [
       "<table border=\"1\" class=\"dataframe\">\n",
       "  <thead>\n",
       "    <tr style=\"text-align: right;\">\n",
       "      <th></th>\n",
       "      <th>timestamp</th>\n",
       "      <th>open</th>\n",
       "      <th>high</th>\n",
       "      <th>low</th>\n",
       "      <th>close</th>\n",
       "      <th>volume</th>\n",
       "      <th>close_time</th>\n",
       "      <th>quote_asset_volume</th>\n",
       "      <th>number_of_trades</th>\n",
       "      <th>taker_buy_base_asset_volume</th>\n",
       "      <th>taker_buy_quote_asset_volume</th>\n",
       "      <th>ignore</th>\n",
       "    </tr>\n",
       "    <tr>\n",
       "      <th></th>\n",
       "      <th></th>\n",
       "      <th></th>\n",
       "      <th></th>\n",
       "      <th></th>\n",
       "      <th></th>\n",
       "      <th></th>\n",
       "      <th></th>\n",
       "      <th></th>\n",
       "      <th></th>\n",
       "      <th></th>\n",
       "      <th></th>\n",
       "      <th></th>\n",
       "    </tr>\n",
       "  </thead>\n",
       "  <tbody>\n",
       "    <tr>\n",
       "      <th>0</th>\n",
       "      <td>2017.08.17D04:00:00.000000000</td>\n",
       "      <td>301.13e</td>\n",
       "      <td>301.13e</td>\n",
       "      <td>301.13e</td>\n",
       "      <td>301.13e</td>\n",
       "      <td>0.42643</td>\n",
       "      <td>2017.08.17D04:00:59.999000000</td>\n",
       "      <td>128.4109</td>\n",
       "      <td>2h</td>\n",
       "      <td>0.42643</td>\n",
       "      <td>128.4109</td>\n",
       "      <td>0b</td>\n",
       "    </tr>\n",
       "    <tr>\n",
       "      <th>1</th>\n",
       "      <td>2017.08.17D04:01:00.000000000</td>\n",
       "      <td>301.13e</td>\n",
       "      <td>301.13e</td>\n",
       "      <td>301.13e</td>\n",
       "      <td>301.13e</td>\n",
       "      <td>2.75787</td>\n",
       "      <td>2017.08.17D04:01:59.999000000</td>\n",
       "      <td>830.4774</td>\n",
       "      <td>4h</td>\n",
       "      <td>2.75787</td>\n",
       "      <td>830.4774</td>\n",
       "      <td>0b</td>\n",
       "    </tr>\n",
       "    <tr>\n",
       "      <th>2</th>\n",
       "      <td>2017.08.17D04:02:00.000000000</td>\n",
       "      <td>300e</td>\n",
       "      <td>300e</td>\n",
       "      <td>300e</td>\n",
       "      <td>300e</td>\n",
       "      <td>0.0993</td>\n",
       "      <td>2017.08.17D04:02:59.999000000</td>\n",
       "      <td>29.79</td>\n",
       "      <td>2h</td>\n",
       "      <td>0.0993</td>\n",
       "      <td>29.79</td>\n",
       "      <td>0b</td>\n",
       "    </tr>\n",
       "    <tr>\n",
       "      <th>3</th>\n",
       "      <td>2017.08.17D04:03:00.000000000</td>\n",
       "      <td>300e</td>\n",
       "      <td>300e</td>\n",
       "      <td>300e</td>\n",
       "      <td>300e</td>\n",
       "      <td>0.31389</td>\n",
       "      <td>2017.08.17D04:03:59.999000000</td>\n",
       "      <td>94.167</td>\n",
       "      <td>3h</td>\n",
       "      <td>0f</td>\n",
       "      <td>0f</td>\n",
       "      <td>0b</td>\n",
       "    </tr>\n",
       "    <tr>\n",
       "      <th>4</th>\n",
       "      <td>2017.08.17D04:04:00.000000000</td>\n",
       "      <td>301.13e</td>\n",
       "      <td>301.13e</td>\n",
       "      <td>301.13e</td>\n",
       "      <td>301.13e</td>\n",
       "      <td>0.23202</td>\n",
       "      <td>2017.08.17D04:04:59.999000000</td>\n",
       "      <td>69.86818</td>\n",
       "      <td>1h</td>\n",
       "      <td>0.23202</td>\n",
       "      <td>69.86818</td>\n",
       "      <td>0b</td>\n",
       "    </tr>\n",
       "  </tbody>\n",
       "</table>"
      ],
      "text/plain": [
       "pykx.Table(pykx.q('\n",
       "timestamp                     open   high   low    close  volume  close_time                    q..\n",
       "-------------------------------------------------------------------------------------------------..\n",
       "2017.08.17D04:00:00.000000000 301.13 301.13 301.13 301.13 0.42643 2017.08.17D04:00:59.999000000 1..\n",
       "2017.08.17D04:01:00.000000000 301.13 301.13 301.13 301.13 2.75787 2017.08.17D04:01:59.999000000 8..\n",
       "2017.08.17D04:02:00.000000000 300    300    300    300    0.0993  2017.08.17D04:02:59.999000000 2..\n",
       "2017.08.17D04:03:00.000000000 300    300    300    300    0.31389 2017.08.17D04:03:59.999000000 9..\n",
       "2017.08.17D04:04:00.000000000 301.13 301.13 301.13 301.13 0.23202 2017.08.17D04:04:59.999000000 6..\n",
       "'))"
      ]
     },
     "execution_count": 22,
     "metadata": {},
     "output_type": "execute_result"
    }
   ],
   "source": [
    "# Load with PyKX\n",
    "tab_ETH = kx.q.read.csv('data/ETHUSDT.csv')\n",
    "tab_ETH.head()"
   ]
  },
  {
   "cell_type": "code",
   "execution_count": 23,
   "id": "d7675726-277f-44c3-b219-3e3930769a68",
   "metadata": {},
   "outputs": [
    {
     "data": {
      "text/plain": [
       "(pykx.LongAtom(pykx.q('3565390')), pykx.LongAtom(pykx.q('12')))"
      ]
     },
     "execution_count": 23,
     "metadata": {},
     "output_type": "execute_result"
    }
   ],
   "source": [
    "# Confirm the ETH dataset is the same size as the BTC dataset\n",
    "tab_ETH.shape"
   ]
  },
  {
   "cell_type": "code",
   "execution_count": 24,
   "id": "2e12b9ef-3b31-4cb1-995e-5e3b65d08782",
   "metadata": {},
   "outputs": [
    {
     "name": "stdout",
     "output_type": "stream",
     "text": [
      "301.13 301.13 300 300 301.13 301.13 300.1 300.1 298 298 298 298 298 298 298 298 298 298 298 299.0..\n"
     ]
    }
   ],
   "source": [
    "# Create a PyKX vector of the first day of ETH prices\n",
    "first_day_prices_ETH = tab_ETH['close'][:1440]\n",
    "print(first_day_prices_ETH)"
   ]
  },
  {
   "cell_type": "markdown",
   "id": "63c079e1-365d-49f3-bf5f-a392b6011773",
   "metadata": {},
   "source": [
    "#### For the first day of prices, find the correlation between ETH and BTC using both PyKX and Pandas Functionality. We see that PyKX runs ~40% faster than Pandas."
   ]
  },
  {
   "cell_type": "code",
   "execution_count": 25,
   "id": "7fd9c23c-13fc-49b2-9bf2-5c5a47f5279e",
   "metadata": {},
   "outputs": [
    {
     "name": "stdout",
     "output_type": "stream",
     "text": [
      "115 µs ± 10.5 µs per loop (mean ± std. dev. of 7 runs, 10,000 loops each)\n"
     ]
    }
   ],
   "source": [
    "%%timeit\n",
    "kx.q.cor(first_day_prices_BTC, first_day_prices_ETH)"
   ]
  },
  {
   "cell_type": "code",
   "execution_count": 26,
   "id": "013cb5dc-922c-4576-bb61-60efe1fa3434",
   "metadata": {},
   "outputs": [
    {
     "name": "stdout",
     "output_type": "stream",
     "text": [
      "161 µs ± 13.4 µs per loop (mean ± std. dev. of 7 runs, 1,000 loops each)\n"
     ]
    }
   ],
   "source": [
    "%%timeit\n",
    "btc_df['close'][:1440].corr(eth_df['close'][:1440])"
   ]
  },
  {
   "cell_type": "markdown",
   "id": "7da41a62-a3cd-4cc7-9e8f-838475d086f8",
   "metadata": {},
   "source": [
    "#### Let's scale this correlation measurement to the entire dataset for BTC and ETH which spans 3565390 rows, we see PyKX runs ~5x faster than Pandas."
   ]
  },
  {
   "cell_type": "code",
   "execution_count": 27,
   "id": "66227f9b-c543-47cb-9b77-27a8161af495",
   "metadata": {},
   "outputs": [
    {
     "name": "stdout",
     "output_type": "stream",
     "text": [
      "9.46 ms ± 417 µs per loop (mean ± std. dev. of 7 runs, 100 loops each)\n"
     ]
    }
   ],
   "source": [
    "%%timeit\n",
    "kx.q.cor(tab_BTC['close'], tab_ETH['close'])"
   ]
  },
  {
   "cell_type": "code",
   "execution_count": 28,
   "id": "b819a771-6056-48ae-8960-b6d062ea6099",
   "metadata": {},
   "outputs": [
    {
     "name": "stdout",
     "output_type": "stream",
     "text": [
      "44.8 ms ± 4.02 ms per loop (mean ± std. dev. of 7 runs, 10 loops each)\n"
     ]
    }
   ],
   "source": [
    "%%timeit\n",
    "btc_df['close'].corr(eth_df['close'])"
   ]
  }
 ],
 "metadata": {
  "kernelspec": {
   "display_name": "Python 3 (ipykernel)",
   "language": "python",
   "name": "python3"
  },
  "language_info": {
   "codemirror_mode": {
    "name": "ipython",
    "version": 3
   },
   "file_extension": ".py",
   "mimetype": "text/x-python",
   "name": "python",
   "nbconvert_exporter": "python",
   "pygments_lexer": "ipython3",
   "version": "3.10.12"
  }
 },
 "nbformat": 4,
 "nbformat_minor": 5
}
